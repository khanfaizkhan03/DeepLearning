{
 "cells": [
  {
   "cell_type": "markdown",
   "metadata": {},
   "source": [
    "<img src=\"https://cf-courses-data.s3.us.cloud-object-storage.appdomain.cloud/IBMDeveloperSkillsNetwork-DL0120EN-SkillsNetwork/images/IDSN-logo.png\" width=\"300\" alt=\"cognitiveclass.ai logo\">\n",
    "\n",
    "<h1 align=\"center\"><font size=\"5\">RESTRICTED BOLTZMANN MACHINES</font></h1>\n"
   ]
  },
  {
   "cell_type": "markdown",
   "metadata": {},
   "source": [
    "Estimated time needed: **25** minutes\n"
   ]
  },
  {
   "cell_type": "markdown",
   "metadata": {},
   "source": [
    "<h3>Introduction</h3>\n",
    "<b>Restricted Boltzmann Machine (RBM):</b>  RBMs are shallow neural nets that learn to reconstruct data by themselves in an unsupervised fashion.  \n",
    "\n",
    "\n",
    "<h4>Why are RBMs important?</h4>\n",
    "An RBM are a basic form of autoencoder.  It can automatically extract <b>meaningful</b> features from a given input.\n",
    "\n",
    "\n",
    "<h4>How does it work?</h4>\n",
    "RBM is a 2 layer neural network. Simply, RBM takes the inputs and translates those into a set of binary values that represents them in the hidden layer. Then, these numbers can be translated back to reconstruct the inputs. Through several forward and backward passes, the RBM will be trained, and a trained RBM can reveal which features are the most important ones when detecting patterns.   \n",
    "\n",
    "\n",
    "<h4>What are the applications of an RBM?</h4>\n",
    "RBM is useful for <a href='http://www.cs.utoronto.ca/~hinton/absps/netflixICML.pdf?utm_medium=Exinfluencer&utm_source=Exinfluencer&utm_content=000026UJ&utm_term=10006555&utm_id=NA-SkillsNetwork-Channel-SkillsNetworkCoursesIBMDeveloperSkillsNetworkDL0120ENSkillsNetwork954-2023-01-01'>  Collaborative Filtering</a>, dimensionality reduction, classification, regression, feature learning, topic modeling and even <b>Deep Belief Networks</b>.\n",
    "\n",
    "<h4>Is RBM a generative or Discriminative model?</h4>\n",
    "RBM is a generative model. Let me explain it by first, see what is different between discriminative and generative models: \n",
    "\n",
    "<b>Discriminative:</b> Consider a classification problem where we want to learn to distinguish between Sedan cars (y = 1) and SUV cars (y = 0), based on some features of cars. Given a training set, an algorithm like logistic regression tries to find a straight line, or <i>decision boundary</i>, that separates the suv and sedan.  \n",
    "\n",
    "<b>Generative:</b> looking at cars, we can build a model of what Sedan cars look like. Then, looking at SUVs, we can build a separate model of what SUV cars look like. Finally, to classify a new car, we can match the new car against the Sedan model, and match it against the SUV model, to see whether the new car looks more like the SUV or Sedan. \n",
    "\n",
    "Generative Models specify a probability distribution over a dataset of input vectors. We can carry out both supervised and unsupervised tasks with generative models:\n",
    "<ul>\n",
    "    <li>In an unsupervised task, we try to form a model for $P(x)$, where $P$ is the probability given $x$ as an input vector.</li>\n",
    "    <li>In the supervised task, we first form a model for $P(x|y)$, where $P$ is the probability of $x$ given $y$(the label for $x$). For example, if $y = 0$ indicates that a car is an SUV, and $y = 1$ indicates that a car is a sedan, then $p(x|y = 0)$ models the distribution of SUV features, and $p(x|y = 1)$ models the distribution of sedan features. If we manage to find $P(x|y)$ and $P(y)$, then we can use <b>Bayes rule</b> to estimate $P(y|x)$, because:   \n",
    "        $$p(y|x) = \\frac{p(x|y)p(y)}{p(x)}$$</li>\n",
    "</ul>\n",
    "Now the question is, can we build a generative model, and then use it to create synthetic data by directly sampling from the modeled probability distributions? Lets see. \n"
   ]
  },
  {
   "cell_type": "markdown",
   "metadata": {},
   "source": [
    "<h2>Table of Contents</h2>\n",
    "<ol>\n",
    "    <li><a href=\"#ref1\">Initialization</a></li>\n",
    "    <li><a href=\"#ref2\">RBM layers</a></li>\n",
    "    <li><a href=\"#ref3\">What RBM can do after training?</a></li>\n",
    "    <li><a href=\"#ref4\">How to train the model?</a></li>\n",
    "    <li><a href=\"#ref5\">Learned features</a></li>\n",
    "</ol>\n",
    "<p></p>\n",
    "</div>\n",
    "<br>\n",
    "\n",
    "<hr>\n"
   ]
  },
  {
   "cell_type": "markdown",
   "metadata": {},
   "source": [
    "<a id=\"ref1\"></a>\n",
    "<h3>Initialization</h3>\n",
    "\n",
    "First, we have to load the utility file which contains different utility functions that are not connected\n",
    "in any way to the networks presented in the tutorials, but rather help in\n",
    "processing the outputs into a more understandable way.\n"
   ]
  },
  {
   "cell_type": "code",
   "execution_count": 1,
   "metadata": {
    "tags": []
   },
   "outputs": [],
   "source": [
    "import urllib.request\n",
    "with urllib.request.urlopen(\"https://cf-courses-data.s3.us.cloud-object-storage.appdomain.cloud/IBMDeveloperSkillsNetwork-DL0120EN-SkillsNetwork/labs/Week4/data/utils.py\") as url:\n",
    "    response = url.read()\n",
    "target = open('utils.py', 'w')\n",
    "target.write(response.decode('utf-8'))\n",
    "target.close()"
   ]
  },
  {
   "cell_type": "markdown",
   "metadata": {},
   "source": [
    "<h2>Installing TensorFlow </h2>\n",
    "\n",
    "We will installing TensorFlow version 2.9.0 and its required prerequistes.  Also installing pillow...\n"
   ]
  },
  {
   "cell_type": "code",
   "execution_count": 2,
   "metadata": {
    "tags": []
   },
   "outputs": [
    {
     "name": "stdout",
     "output_type": "stream",
     "text": [
      "Collecting grpcio==1.24.3\n",
      "  Downloading grpcio-1.24.3-cp37-cp37m-manylinux2010_x86_64.whl (2.2 MB)\n",
      "\u001b[2K     \u001b[90m━━━━━━━━━━━━━━━━━━━━━━━━━━━━━━━━━━━━━━━━\u001b[0m \u001b[32m2.2/2.2 MB\u001b[0m \u001b[31m44.9 MB/s\u001b[0m eta \u001b[36m0:00:00\u001b[0m00:01\u001b[0m\n",
      "\u001b[?25hRequirement already satisfied: six>=1.5.2 in /home/jupyterlab/conda/envs/python/lib/python3.7/site-packages (from grpcio==1.24.3) (1.16.0)\n",
      "Installing collected packages: grpcio\n",
      "  Attempting uninstall: grpcio\n",
      "    Found existing installation: grpcio 1.48.1\n",
      "    Uninstalling grpcio-1.48.1:\n",
      "      Successfully uninstalled grpcio-1.48.1\n",
      "Successfully installed grpcio-1.24.3\n",
      "Collecting tensorflow==2.9.0\n",
      "  Downloading tensorflow-2.9.0-cp37-cp37m-manylinux_2_17_x86_64.manylinux2014_x86_64.whl (511.7 MB)\n",
      "\u001b[2K     \u001b[90m━━━━━━━━━━━━━━━━━━━━━━━━━━━━━━━━━━━━━\u001b[0m \u001b[32m511.7/511.7 MB\u001b[0m \u001b[31m945.4 kB/s\u001b[0m eta \u001b[36m0:00:00\u001b[0m00:01\u001b[0m00:01\u001b[0m\n",
      "\u001b[?25hRequirement already satisfied: absl-py>=1.0.0 in /home/jupyterlab/conda/envs/python/lib/python3.7/site-packages (from tensorflow==2.9.0) (1.4.0)\n",
      "Collecting astunparse>=1.6.0 (from tensorflow==2.9.0)\n",
      "  Downloading astunparse-1.6.3-py2.py3-none-any.whl (12 kB)\n",
      "Collecting flatbuffers<2,>=1.12 (from tensorflow==2.9.0)\n",
      "  Downloading flatbuffers-1.12-py2.py3-none-any.whl (15 kB)\n",
      "Collecting gast<=0.4.0,>=0.2.1 (from tensorflow==2.9.0)\n",
      "  Downloading gast-0.4.0-py3-none-any.whl (9.8 kB)\n",
      "Requirement already satisfied: google-pasta>=0.1.1 in /home/jupyterlab/conda/envs/python/lib/python3.7/site-packages (from tensorflow==2.9.0) (0.2.0)\n",
      "Requirement already satisfied: grpcio<2.0,>=1.24.3 in /home/jupyterlab/conda/envs/python/lib/python3.7/site-packages (from tensorflow==2.9.0) (1.24.3)\n",
      "Collecting h5py>=2.9.0 (from tensorflow==2.9.0)\n",
      "  Downloading h5py-3.8.0-cp37-cp37m-manylinux_2_17_x86_64.manylinux2014_x86_64.whl (4.3 MB)\n",
      "\u001b[2K     \u001b[90m━━━━━━━━━━━━━━━━━━━━━━━━━━━━━━━━━━━━━━━━\u001b[0m \u001b[32m4.3/4.3 MB\u001b[0m \u001b[31m57.4 MB/s\u001b[0m eta \u001b[36m0:00:00\u001b[0m:00:01\u001b[0m\n",
      "\u001b[?25hCollecting keras<2.10.0,>=2.9.0rc0 (from tensorflow==2.9.0)\n",
      "  Downloading keras-2.9.0-py2.py3-none-any.whl (1.6 MB)\n",
      "\u001b[2K     \u001b[90m━━━━━━━━━━━━━━━━━━━━━━━━━━━━━━━━━━━━━━━━\u001b[0m \u001b[32m1.6/1.6 MB\u001b[0m \u001b[31m39.7 MB/s\u001b[0m eta \u001b[36m0:00:00\u001b[0m:00:01\u001b[0m\n",
      "\u001b[?25hRequirement already satisfied: keras-preprocessing>=1.1.1 in /home/jupyterlab/conda/envs/python/lib/python3.7/site-packages (from tensorflow==2.9.0) (1.1.2)\n",
      "Collecting libclang>=13.0.0 (from tensorflow==2.9.0)\n",
      "  Downloading libclang-16.0.6-py2.py3-none-manylinux2010_x86_64.whl (22.9 MB)\n",
      "\u001b[2K     \u001b[90m━━━━━━━━━━━━━━━━━━━━━━━━━━━━━━━━━━━━━━━━\u001b[0m \u001b[32m22.9/22.9 MB\u001b[0m \u001b[31m50.4 MB/s\u001b[0m eta \u001b[36m0:00:00\u001b[0m00:01\u001b[0m00:01\u001b[0m\n",
      "\u001b[?25hRequirement already satisfied: numpy>=1.20 in /home/jupyterlab/conda/envs/python/lib/python3.7/site-packages (from tensorflow==2.9.0) (1.21.6)\n",
      "Collecting opt-einsum>=2.3.2 (from tensorflow==2.9.0)\n",
      "  Downloading opt_einsum-3.3.0-py3-none-any.whl (65 kB)\n",
      "\u001b[2K     \u001b[90m━━━━━━━━━━━━━━━━━━━━━━━━━━━━━━━━━━━━━━━━\u001b[0m \u001b[32m65.5/65.5 kB\u001b[0m \u001b[31m15.5 MB/s\u001b[0m eta \u001b[36m0:00:00\u001b[0m\n",
      "\u001b[?25hRequirement already satisfied: packaging in /home/jupyterlab/conda/envs/python/lib/python3.7/site-packages (from tensorflow==2.9.0) (23.1)\n",
      "Requirement already satisfied: protobuf>=3.9.2 in /home/jupyterlab/conda/envs/python/lib/python3.7/site-packages (from tensorflow==2.9.0) (4.21.8)\n",
      "Requirement already satisfied: setuptools in /home/jupyterlab/conda/envs/python/lib/python3.7/site-packages (from tensorflow==2.9.0) (67.7.2)\n",
      "Requirement already satisfied: six>=1.12.0 in /home/jupyterlab/conda/envs/python/lib/python3.7/site-packages (from tensorflow==2.9.0) (1.16.0)\n",
      "Collecting tensorboard<2.10,>=2.9 (from tensorflow==2.9.0)\n",
      "  Downloading tensorboard-2.9.1-py3-none-any.whl (5.8 MB)\n",
      "\u001b[2K     \u001b[90m━━━━━━━━━━━━━━━━━━━━━━━━━━━━━━━━━━━━━━━━\u001b[0m \u001b[32m5.8/5.8 MB\u001b[0m \u001b[31m51.1 MB/s\u001b[0m eta \u001b[36m0:00:00\u001b[0m:00:01\u001b[0m00:01\u001b[0m\n",
      "\u001b[?25hCollecting tensorflow-io-gcs-filesystem>=0.23.1 (from tensorflow==2.9.0)\n",
      "  Downloading tensorflow_io_gcs_filesystem-0.33.0-cp37-cp37m-manylinux_2_12_x86_64.manylinux2010_x86_64.whl (2.4 MB)\n",
      "\u001b[2K     \u001b[90m━━━━━━━━━━━━━━━━━━━━━━━━━━━━━━━━━━━━━━━━\u001b[0m \u001b[32m2.4/2.4 MB\u001b[0m \u001b[31m101.3 MB/s\u001b[0m eta \u001b[36m0:00:00\u001b[0m\n",
      "\u001b[?25hCollecting tensorflow-estimator<2.10.0,>=2.9.0rc0 (from tensorflow==2.9.0)\n",
      "  Downloading tensorflow_estimator-2.9.0-py2.py3-none-any.whl (438 kB)\n",
      "\u001b[2K     \u001b[90m━━━━━━━━━━━━━━━━━━━━━━━━━━━━━━━━━━━━━━\u001b[0m \u001b[32m438.7/438.7 kB\u001b[0m \u001b[31m60.8 MB/s\u001b[0m eta \u001b[36m0:00:00\u001b[0m\n",
      "\u001b[?25hRequirement already satisfied: termcolor>=1.1.0 in /home/jupyterlab/conda/envs/python/lib/python3.7/site-packages (from tensorflow==2.9.0) (2.3.0)\n",
      "Requirement already satisfied: typing-extensions>=3.6.6 in /home/jupyterlab/conda/envs/python/lib/python3.7/site-packages (from tensorflow==2.9.0) (4.5.0)\n",
      "Requirement already satisfied: wrapt>=1.11.0 in /home/jupyterlab/conda/envs/python/lib/python3.7/site-packages (from tensorflow==2.9.0) (1.14.1)\n",
      "Requirement already satisfied: wheel<1.0,>=0.23.0 in /home/jupyterlab/conda/envs/python/lib/python3.7/site-packages (from astunparse>=1.6.0->tensorflow==2.9.0) (0.40.0)\n",
      "Collecting google-auth<3,>=1.6.3 (from tensorboard<2.10,>=2.9->tensorflow==2.9.0)\n",
      "  Downloading google_auth-2.22.0-py2.py3-none-any.whl (181 kB)\n",
      "\u001b[2K     \u001b[90m━━━━━━━━━━━━━━━━━━━━━━━━━━━━━━━━━━━━━━\u001b[0m \u001b[32m181.8/181.8 kB\u001b[0m \u001b[31m33.3 MB/s\u001b[0m eta \u001b[36m0:00:00\u001b[0m\n",
      "\u001b[?25hCollecting google-auth-oauthlib<0.5,>=0.4.1 (from tensorboard<2.10,>=2.9->tensorflow==2.9.0)\n",
      "  Downloading google_auth_oauthlib-0.4.6-py2.py3-none-any.whl (18 kB)\n",
      "Requirement already satisfied: markdown>=2.6.8 in /home/jupyterlab/conda/envs/python/lib/python3.7/site-packages (from tensorboard<2.10,>=2.9->tensorflow==2.9.0) (3.4.3)\n",
      "Collecting protobuf>=3.9.2 (from tensorflow==2.9.0)\n",
      "  Downloading protobuf-3.19.6-cp37-cp37m-manylinux_2_17_x86_64.manylinux2014_x86_64.whl (1.1 MB)\n",
      "\u001b[2K     \u001b[90m━━━━━━━━━━━━━━━━━━━━━━━━━━━━━━━━━━━━━━━━\u001b[0m \u001b[32m1.1/1.1 MB\u001b[0m \u001b[31m33.1 MB/s\u001b[0m eta \u001b[36m0:00:00\u001b[0m\n",
      "\u001b[?25hRequirement already satisfied: requests<3,>=2.21.0 in /home/jupyterlab/conda/envs/python/lib/python3.7/site-packages (from tensorboard<2.10,>=2.9->tensorflow==2.9.0) (2.29.0)\n",
      "Collecting tensorboard-data-server<0.7.0,>=0.6.0 (from tensorboard<2.10,>=2.9->tensorflow==2.9.0)\n",
      "  Downloading tensorboard_data_server-0.6.1-py3-none-manylinux2010_x86_64.whl (4.9 MB)\n",
      "\u001b[2K     \u001b[90m━━━━━━━━━━━━━━━━━━━━━━━━━━━━━━━━━━━━━━━━\u001b[0m \u001b[32m4.9/4.9 MB\u001b[0m \u001b[31m75.3 MB/s\u001b[0m eta \u001b[36m0:00:00\u001b[0m:00:01\u001b[0m\n",
      "\u001b[?25hCollecting tensorboard-plugin-wit>=1.6.0 (from tensorboard<2.10,>=2.9->tensorflow==2.9.0)\n",
      "  Downloading tensorboard_plugin_wit-1.8.1-py3-none-any.whl (781 kB)\n",
      "\u001b[2K     \u001b[90m━━━━━━━━━━━━━━━━━━━━━━━━━━━━━━━━━━━━━━\u001b[0m \u001b[32m781.3/781.3 kB\u001b[0m \u001b[31m72.1 MB/s\u001b[0m eta \u001b[36m0:00:00\u001b[0m\n",
      "\u001b[?25hRequirement already satisfied: werkzeug>=1.0.1 in /home/jupyterlab/conda/envs/python/lib/python3.7/site-packages (from tensorboard<2.10,>=2.9->tensorflow==2.9.0) (2.2.3)\n",
      "Collecting cachetools<6.0,>=2.0.0 (from google-auth<3,>=1.6.3->tensorboard<2.10,>=2.9->tensorflow==2.9.0)\n",
      "  Downloading cachetools-5.3.1-py3-none-any.whl (9.3 kB)\n",
      "Requirement already satisfied: pyasn1-modules>=0.2.1 in /home/jupyterlab/conda/envs/python/lib/python3.7/site-packages (from google-auth<3,>=1.6.3->tensorboard<2.10,>=2.9->tensorflow==2.9.0) (0.3.0)\n",
      "Collecting rsa<5,>=3.1.4 (from google-auth<3,>=1.6.3->tensorboard<2.10,>=2.9->tensorflow==2.9.0)\n",
      "  Downloading rsa-4.9-py3-none-any.whl (34 kB)\n",
      "Requirement already satisfied: urllib3<2.0 in /home/jupyterlab/conda/envs/python/lib/python3.7/site-packages (from google-auth<3,>=1.6.3->tensorboard<2.10,>=2.9->tensorflow==2.9.0) (1.26.15)\n",
      "Collecting requests-oauthlib>=0.7.0 (from google-auth-oauthlib<0.5,>=0.4.1->tensorboard<2.10,>=2.9->tensorflow==2.9.0)\n",
      "  Downloading requests_oauthlib-1.3.1-py2.py3-none-any.whl (23 kB)\n",
      "Requirement already satisfied: importlib-metadata>=4.4 in /home/jupyterlab/conda/envs/python/lib/python3.7/site-packages (from markdown>=2.6.8->tensorboard<2.10,>=2.9->tensorflow==2.9.0) (4.11.4)\n",
      "Requirement already satisfied: charset-normalizer<4,>=2 in /home/jupyterlab/conda/envs/python/lib/python3.7/site-packages (from requests<3,>=2.21.0->tensorboard<2.10,>=2.9->tensorflow==2.9.0) (3.1.0)\n",
      "Requirement already satisfied: idna<4,>=2.5 in /home/jupyterlab/conda/envs/python/lib/python3.7/site-packages (from requests<3,>=2.21.0->tensorboard<2.10,>=2.9->tensorflow==2.9.0) (3.4)\n",
      "Requirement already satisfied: certifi>=2017.4.17 in /home/jupyterlab/conda/envs/python/lib/python3.7/site-packages (from requests<3,>=2.21.0->tensorboard<2.10,>=2.9->tensorflow==2.9.0) (2023.5.7)\n",
      "Requirement already satisfied: MarkupSafe>=2.1.1 in /home/jupyterlab/conda/envs/python/lib/python3.7/site-packages (from werkzeug>=1.0.1->tensorboard<2.10,>=2.9->tensorflow==2.9.0) (2.1.1)\n",
      "Requirement already satisfied: zipp>=0.5 in /home/jupyterlab/conda/envs/python/lib/python3.7/site-packages (from importlib-metadata>=4.4->markdown>=2.6.8->tensorboard<2.10,>=2.9->tensorflow==2.9.0) (3.15.0)\n",
      "Requirement already satisfied: pyasn1<0.6.0,>=0.4.6 in /home/jupyterlab/conda/envs/python/lib/python3.7/site-packages (from pyasn1-modules>=0.2.1->google-auth<3,>=1.6.3->tensorboard<2.10,>=2.9->tensorflow==2.9.0) (0.5.0)\n",
      "Collecting oauthlib>=3.0.0 (from requests-oauthlib>=0.7.0->google-auth-oauthlib<0.5,>=0.4.1->tensorboard<2.10,>=2.9->tensorflow==2.9.0)\n",
      "  Downloading oauthlib-3.2.2-py3-none-any.whl (151 kB)\n",
      "\u001b[2K     \u001b[90m━━━━━━━━━━━━━━━━━━━━━━━━━━━━━━━━━━━━━━\u001b[0m \u001b[32m151.7/151.7 kB\u001b[0m \u001b[31m30.7 MB/s\u001b[0m eta \u001b[36m0:00:00\u001b[0m\n",
      "\u001b[?25hInstalling collected packages: tensorboard-plugin-wit, libclang, keras, flatbuffers, tensorflow-io-gcs-filesystem, tensorflow-estimator, tensorboard-data-server, rsa, protobuf, opt-einsum, oauthlib, h5py, gast, cachetools, astunparse, requests-oauthlib, google-auth, google-auth-oauthlib, tensorboard, tensorflow\n",
      "  Attempting uninstall: keras\n",
      "    Found existing installation: Keras 2.1.6\n",
      "    Uninstalling Keras-2.1.6:\n",
      "      Successfully uninstalled Keras-2.1.6\n",
      "  Attempting uninstall: tensorflow-estimator\n",
      "    Found existing installation: tensorflow-estimator 1.14.0\n",
      "    Uninstalling tensorflow-estimator-1.14.0:\n",
      "      Successfully uninstalled tensorflow-estimator-1.14.0\n",
      "  Attempting uninstall: protobuf\n",
      "    Found existing installation: protobuf 4.21.8\n",
      "    Uninstalling protobuf-4.21.8:\n",
      "      Successfully uninstalled protobuf-4.21.8\n",
      "  Attempting uninstall: h5py\n",
      "    Found existing installation: h5py 2.8.0\n",
      "    Uninstalling h5py-2.8.0:\n",
      "      Successfully uninstalled h5py-2.8.0\n",
      "  Attempting uninstall: gast\n",
      "    Found existing installation: gast 0.5.3\n",
      "    Uninstalling gast-0.5.3:\n",
      "      Successfully uninstalled gast-0.5.3\n",
      "  Attempting uninstall: tensorboard\n",
      "    Found existing installation: tensorboard 1.14.0\n",
      "    Uninstalling tensorboard-1.14.0:\n",
      "      Successfully uninstalled tensorboard-1.14.0\n",
      "  Attempting uninstall: tensorflow\n",
      "    Found existing installation: tensorflow 1.14.0\n",
      "    Uninstalling tensorflow-1.14.0:\n",
      "      Successfully uninstalled tensorflow-1.14.0\n",
      "Successfully installed astunparse-1.6.3 cachetools-5.3.1 flatbuffers-1.12 gast-0.4.0 google-auth-2.22.0 google-auth-oauthlib-0.4.6 h5py-3.8.0 keras-2.9.0 libclang-16.0.6 oauthlib-3.2.2 opt-einsum-3.3.0 protobuf-3.19.6 requests-oauthlib-1.3.1 rsa-4.9 tensorboard-2.9.1 tensorboard-data-server-0.6.1 tensorboard-plugin-wit-1.8.1 tensorflow-2.9.0 tensorflow-estimator-2.9.0 tensorflow-io-gcs-filesystem-0.33.0\n",
      "Requirement already satisfied: pillow==8.1.0 in /home/jupyterlab/conda/envs/python/lib/python3.7/site-packages (8.1.0)\n"
     ]
    }
   ],
   "source": [
    "!pip install grpcio==1.24.3\n",
    "!pip install tensorflow==2.9.0\n",
    "!pip install pillow==8.1.0"
   ]
  },
  {
   "cell_type": "markdown",
   "metadata": {},
   "source": [
    "<b>Notice:</b> This notebook has been created with TensorFlow version 2.9.0, and might not work with other versions. Therefore we check:\n"
   ]
  },
  {
   "cell_type": "code",
   "execution_count": 3,
   "metadata": {
    "tags": []
   },
   "outputs": [
    {
     "name": "stderr",
     "output_type": "stream",
     "text": [
      "2023-08-25 04:15:04.371623: I tensorflow/core/util/util.cc:169] oneDNN custom operations are on. You may see slightly different numerical results due to floating-point round-off errors from different computation orders. To turn them off, set the environment variable `TF_ENABLE_ONEDNN_OPTS=0`.\n",
      "2023-08-25 04:15:04.376278: W tensorflow/stream_executor/platform/default/dso_loader.cc:64] Could not load dynamic library 'libcudart.so.11.0'; dlerror: libcudart.so.11.0: cannot open shared object file: No such file or directory\n",
      "2023-08-25 04:15:04.376307: I tensorflow/stream_executor/cuda/cudart_stub.cc:29] Ignore above cudart dlerror if you do not have a GPU set up on your machine.\n"
     ]
    }
   ],
   "source": [
    "import tensorflow as tf\n",
    "from IPython.display import Markdown, display\n",
    "\n",
    "def printmd(string):\n",
    "    display(Markdown('# <span style=\"color:red\">'+string+'</span>'))\n",
    "\n",
    "\n",
    "if not tf.__version__ == '2.9.0':\n",
    "    printmd('<<<<<!!!!! ERROR !!!! please upgrade to TensorFlow 2.9.0, or restart your Kernel (Kernel->Restart & Clear Output)>>>>>')"
   ]
  },
  {
   "cell_type": "markdown",
   "metadata": {},
   "source": [
    "Now, we load in all the packages that we use to create the net including the TensorFlow package:\n"
   ]
  },
  {
   "cell_type": "code",
   "execution_count": 21,
   "metadata": {
    "tags": []
   },
   "outputs": [
    {
     "ename": "ModuleNotFoundError",
     "evalue": "No module named 'utils'",
     "output_type": "error",
     "traceback": [
      "\u001b[0;31m---------------------------------------------------------------------------\u001b[0m",
      "\u001b[0;31mModuleNotFoundError\u001b[0m                       Traceback (most recent call last)",
      "\u001b[0;32m/tmp/ipykernel_67/3036640050.py\u001b[0m in \u001b[0;36m<module>\u001b[0;34m\u001b[0m\n\u001b[1;32m      3\u001b[0m \u001b[0;34m\u001b[0m\u001b[0m\n\u001b[1;32m      4\u001b[0m \u001b[0;32mfrom\u001b[0m \u001b[0mPIL\u001b[0m \u001b[0;32mimport\u001b[0m \u001b[0mImage\u001b[0m\u001b[0;34m\u001b[0m\u001b[0;34m\u001b[0m\u001b[0m\n\u001b[0;32m----> 5\u001b[0;31m \u001b[0;32mfrom\u001b[0m \u001b[0mutils\u001b[0m \u001b[0;32mimport\u001b[0m \u001b[0mtile_raster_images\u001b[0m\u001b[0;34m\u001b[0m\u001b[0;34m\u001b[0m\u001b[0m\n\u001b[0m\u001b[1;32m      6\u001b[0m \u001b[0;32mimport\u001b[0m \u001b[0mmatplotlib\u001b[0m\u001b[0;34m.\u001b[0m\u001b[0mpyplot\u001b[0m \u001b[0;32mas\u001b[0m \u001b[0mplt\u001b[0m\u001b[0;34m\u001b[0m\u001b[0;34m\u001b[0m\u001b[0m\n",
      "\u001b[0;31mModuleNotFoundError\u001b[0m: No module named 'utils'"
     ]
    }
   ],
   "source": [
    "import tensorflow as tf\n",
    "import numpy as np\n",
    "\n",
    "from PIL import Image\n",
    "from utils import tile_raster_images\n",
    "\n"
   ]
  },
  {
   "cell_type": "code",
   "execution_count": 23,
   "metadata": {
    "tags": []
   },
   "outputs": [],
   "source": [
    "import matplotlib.pyplot as plt"
   ]
  },
  {
   "cell_type": "markdown",
   "metadata": {},
   "source": [
    "<hr>\n"
   ]
  },
  {
   "cell_type": "markdown",
   "metadata": {},
   "source": [
    "<a id=\"ref2\"></a>\n",
    "<h3>RBM layers</h3>\n",
    "\n",
    "An RBM has two layers. The first layer of the RBM is called the <b>visible</b> (or input layer). Imagine that our toy example, has only vectors with 7 values, so the visible layer must have $V=7$ input nodes. \n",
    "The second layer is the <b>hidden</b> layer, which has $H$ neurons in our case. Each hidden node takes on values of either 0 or 1 (i.e., $h_i = 1$ or $h_i$ = 0), with a probability that is a logistic function of the inputs it receives from the other $V$ visible units, called for example, $p(h_i = 1)$. For our toy sample, we'll use 2 nodes in the hidden layer, so $H = 2$.\n",
    "\n",
    "<center><img src=\"https://ibm.box.com/shared/static/eu26opvcefgls6vnwuo29uwp0nudmokh.png\" alt=\"RBM Model\" style=\"width: 400px;\"></center>\n"
   ]
  },
  {
   "cell_type": "markdown",
   "metadata": {},
   "source": [
    "     \n",
    "\n",
    "Each node in the first layer also has a <b>bias</b>. We will denote the bias as $v_{bias}$, and this single value is shared among the $V$ visible units.\n",
    "\n",
    "The <b>bias</b> of the second is defined similarly as $h_{bias}$, and this single value among the $H$ hidden units.\n"
   ]
  },
  {
   "cell_type": "code",
   "execution_count": 5,
   "metadata": {
    "tags": []
   },
   "outputs": [
    {
     "name": "stderr",
     "output_type": "stream",
     "text": [
      "2023-08-25 04:15:33.818994: W tensorflow/stream_executor/platform/default/dso_loader.cc:64] Could not load dynamic library 'libcuda.so.1'; dlerror: libcuda.so.1: cannot open shared object file: No such file or directory\n",
      "2023-08-25 04:15:33.819089: W tensorflow/stream_executor/cuda/cuda_driver.cc:269] failed call to cuInit: UNKNOWN ERROR (303)\n",
      "2023-08-25 04:15:33.819133: I tensorflow/stream_executor/cuda/cuda_diagnostics.cc:156] kernel driver does not appear to be running on this host (jupyterlab-khanfaizkhan): /proc/driver/nvidia/version does not exist\n",
      "2023-08-25 04:15:33.819781: I tensorflow/core/platform/cpu_feature_guard.cc:193] This TensorFlow binary is optimized with oneAPI Deep Neural Network Library (oneDNN) to use the following CPU instructions in performance-critical operations:  AVX2 AVX512F AVX512_VNNI FMA\n",
      "To enable them in other operations, rebuild TensorFlow with the appropriate compiler flags.\n"
     ]
    }
   ],
   "source": [
    "v_bias = tf.Variable(tf.zeros([7]), tf.float32)\n",
    "h_bias = tf.Variable(tf.zeros([2]), tf.float32)"
   ]
  },
  {
   "cell_type": "markdown",
   "metadata": {},
   "source": [
    "We have to define weights among the input layer and hidden layer nodes. In the weight matrix, the number of rows are equal to the input nodes, and the number of columns are equal to the output nodes. We define a tensor $\\mathbf{W}$ of shape = (7,2), where the number of visible neurons = 7, and the number of hidden neurons = 2. \n"
   ]
  },
  {
   "cell_type": "code",
   "execution_count": 6,
   "metadata": {
    "tags": []
   },
   "outputs": [],
   "source": [
    "W = tf.constant(np.random.normal(loc=0.0, scale=1.0, size=(7, 2)).astype(np.float32))"
   ]
  },
  {
   "cell_type": "markdown",
   "metadata": {},
   "source": [
    "<hr>\n"
   ]
  },
  {
   "cell_type": "markdown",
   "metadata": {},
   "source": [
    "<a id=\"ref3\"></a>\n",
    "<h3>What RBM can do after training?</h3>\n",
    "Think of RBM as a model that has been trained based on images of a dataset of many SUV and sedan cars. Also, imagine that the RBM network has only two hidden nodes, where one node encodes the weight and, and the other encodes the size.  \n",
    "In a sense, the different configurations represent different cars, where one is an SUV and the other is Sedan.  In a training process, through many forward and backward passes, the RBM adjust its weights to send a stronger signal to either the SUV node (0, 1) or the sedan node (1, 0) in the hidden layer, given the pixels of images. Now, given an SUV in hidden layer, which distribution of pixels should we expect? RBM can give you 2 things. First, it encodes your images in hidden layer. Second, it gives you the probability of observing a case, given some hidden values.\n",
    "\n",
    "\n",
    "<h3>The Inference Process</h3>\n",
    "\n",
    "RBM has two phases:\n",
    "<ul>\n",
    "    <li>Forward Pass</li>  \n",
    "    <li>Backward Pass or Reconstruction</li>\n",
    "</ul>\n",
    "\n",
    "<b>Phase 1) Forward pass:</b>  \n",
    "\n",
    "Input one training sample (one image) $\\mathbf{x}$ through all visible nodes, and pass it to all hidden nodes. Processing happens in each node in the hidden layer. This computation begins by making stochastic decisions about whether to transmit that input or not (i.e. to determine the state of each hidden layer).  First, the probability vector is computed using the input feature vector $\\mathbf{x}$, the weight matrix $\\mathbf{W}$, and the bias term $h_{bias}$, as \n",
    "\n",
    "\n",
    "$$p({h_j}|\\mathbf x)= \\sigma( \\sum_{i=1}^V W_{ij} x_i + h_{bias} )$$, \n",
    "\n",
    "where $\\sigma(z) = (1+e^{-z})^{-1}$ is the logistic function.\n",
    "\n",
    "\n",
    "So, what does $p({h_j})$ represent? It is the <b>probability distribution</b> of the hidden units. That is, RBM uses inputs $x_i$ to make predictions about hidden node activations. For example, imagine that the hidden node activation values are [0.51 0.84] for the first training item. It tells you that the conditional probability for each hidden neuron for Phase 1 is: \n",
    "\n",
    "$$p(h_{1} = 1|\\mathbf{v}) = 0.51$$\n",
    "$$p(h_{2} = 1|\\mathbf{v}) = 0.84$$\n",
    "\n",
    "As a result, for each row in the training set, vector of probabilities is generated.  In TensorFlow, this is referred to as a `tensor` with a shape of (1,2). \n",
    "\n",
    "We then turn unit $j$ with probability $p(h_{j}|\\mathbf{v})$, and turn it off with probability $1 - p(h_{j}|\\mathbf{v})$ by generating a uniform random number vector $\\mathbf{\\xi}$, and comparing it to the activation probability as \n",
    "\n",
    "<center>If $\\xi_j>p(h_{j}|\\mathbf{v})$, then $h_j=1$, else $h_j=0$.</center>\n",
    "\n",
    "\n",
    "Therefore, the conditional probability of a configuration of $\\mathbf{h}$ given $\\mathbf{v}$ (for a training sample) is:\n",
    "\n",
    "$$p(\\mathbf{h} \\mid \\mathbf{v}) = \\prod_{j=1}^H p(h_j \\mid \\mathbf{v})$$\n",
    "\n",
    "\n",
    "where $H$ is the number of hidden units.\n",
    "\n"
   ]
  },
  {
   "cell_type": "markdown",
   "metadata": {},
   "source": [
    "Before we go further, let's look at a toy example for one case out of all input. Assume that we have a trained RBM, and a very simple input vector, such as [1.0, 0.0, 0.0, 1.0, 0.0, 0.0, 0.0].   \n",
    "Let's see what the output of forward pass would look like:\n"
   ]
  },
  {
   "cell_type": "code",
   "execution_count": 7,
   "metadata": {
    "tags": []
   },
   "outputs": [
    {
     "name": "stdout",
     "output_type": "stream",
     "text": [
      "Input:  tf.Tensor([[1. 0. 0. 1. 0. 0. 0.]], shape=(1, 7), dtype=float32)\n",
      "hb:  tf.Tensor([0.1 0.1], shape=(2,), dtype=float32)\n",
      "w:  tf.Tensor(\n",
      "[[-0.3327653   0.23613305]\n",
      " [-1.7627898   0.68314946]\n",
      " [-0.89286566  0.78548586]\n",
      " [ 0.98688126 -1.1638246 ]\n",
      " [ 0.1277306   0.9045257 ]\n",
      " [-0.29884723 -1.6596903 ]\n",
      " [-0.9495504  -0.29949942]], shape=(7, 2), dtype=float32)\n",
      "p(h|v):  tf.Tensor([[0.6800749  0.30413342]], shape=(1, 2), dtype=float32)\n",
      "h0 states: tf.Tensor([[0. 0.]], shape=(1, 2), dtype=float32)\n"
     ]
    }
   ],
   "source": [
    "X = tf.constant([[1.0, 0.0, 0.0, 1.0, 0.0, 0.0, 0.0]], tf.float32)\n",
    "\n",
    "v_state = X\n",
    "print (\"Input: \", v_state)\n",
    "\n",
    "h_bias = tf.constant([0.1, 0.1])\n",
    "print (\"hb: \", h_bias)\n",
    "print (\"w: \", W)\n",
    "\n",
    "# Calculate the probabilities of turning the hidden units on:\n",
    "h_prob = tf.nn.sigmoid(tf.matmul(v_state, W) + h_bias)  #probabilities of the hidden units\n",
    "print (\"p(h|v): \", h_prob)\n",
    "\n",
    "# Draw samples from the distribution:\n",
    "h_state = tf.nn.relu(tf.sign(h_prob - tf.random.uniform(tf.shape(h_prob)))) #states\n",
    "print (\"h0 states:\", h_state)"
   ]
  },
  {
   "cell_type": "markdown",
   "metadata": {},
   "source": [
    "<b>Phase 2) Backward Pass (Reconstruction):</b>\n",
    "The RBM reconstructs data by making several forward and backward passes between the visible and hidden layers.\n",
    "\n",
    "So, in the second phase (i.e. reconstruction phase), the samples from the hidden layer (i.e. $\\mathbf h$) becomes the input in the backward pass. The same weight matrix and visible layer biases are used to passed to the sigmoid function. The reproduced output is a reconstruction which is an approximation of the original input.\n"
   ]
  },
  {
   "cell_type": "code",
   "execution_count": 8,
   "metadata": {
    "tags": []
   },
   "outputs": [
    {
     "name": "stdout",
     "output_type": "stream",
     "text": [
      "b:  tf.Tensor([0.1 0.2 0.1 0.1 0.1 0.2 0.1], shape=(7,), dtype=float32)\n",
      "p(vi∣h):  tf.Tensor([[0.5249792 0.549834  0.5249792 0.5249792 0.5249792 0.549834  0.5249792]], shape=(1, 7), dtype=float32)\n",
      "v probability states:  tf.Tensor([[1. 1. 0. 0. 0. 1. 1.]], shape=(1, 7), dtype=float32)\n"
     ]
    }
   ],
   "source": [
    "vb = tf.constant([0.1, 0.2, 0.1, 0.1, 0.1, 0.2, 0.1])\n",
    "print (\"b: \", vb)\n",
    "v_prob = tf.nn.sigmoid(tf.matmul(h_state, tf.transpose(W)) + vb)\n",
    "print (\"p(vi∣h): \", v_prob)\n",
    "v_state = tf.nn.relu(tf.sign(v_prob - tf.random.uniform(tf.shape(v_prob))))\n",
    "print (\"v probability states: \", v_state)"
   ]
  },
  {
   "cell_type": "markdown",
   "metadata": {},
   "source": [
    "RBM learns a probability distribution over the input, and then, after being trained, the RBM can generate new samples from the learned probability distribution. As you know, <b>probability distribution</b>, is a mathematical function that provides the probabilities of occurrence of different possible outcomes in an experiment.\n",
    "\n",
    "The (conditional) probability distribution over the visible units v is given by\n",
    "\n",
    "$$p(\\mathbf{v} \\mid \\mathbf{h}) = \\prod_{i=1}^V p(v_i \\mid \\mathbf{h}),$$\n",
    "\n",
    "\n",
    "where,\n",
    "\n",
    "$$p(v_i \\mid \\mathbf{h}) = \\sigma\\left(\\sum_{j=1}^H W_{ji} h_j + v_{bias} \\right)$$\n",
    "\n",
    "so, given current state of hidden units and weights, what is the probability of generating [1. 0. 0. 1. 0. 0. 0.] in reconstruction phase, based on the above <b>probability distribution</b> function?\n"
   ]
  },
  {
   "cell_type": "code",
   "execution_count": 9,
   "metadata": {
    "tags": []
   },
   "outputs": [
    {
     "name": "stdout",
     "output_type": "stream",
     "text": [
      "input X: [[1. 0. 0. 1. 0. 0. 0.]]\n",
      "probablity vector: [0.5249792 0.549834  0.5249792 0.5249792 0.5249792 0.549834  0.5249792]\n",
      "probability of generating X:  0.005986424\n"
     ]
    }
   ],
   "source": [
    "inp = X\n",
    "print(\"input X:\" , inp.numpy())\n",
    "\n",
    "print(\"probablity vector:\" , v_prob[0].numpy())\n",
    "v_probability = 1\n",
    "\n",
    "for elm, p in zip(inp[0],v_prob[0]) :\n",
    "    if elm ==1:\n",
    "        v_probability *= p\n",
    "    else:\n",
    "        v_probability *= (1-p)\n",
    "\n",
    "print(\"probability of generating X: \" , v_probability.numpy())"
   ]
  },
  {
   "cell_type": "markdown",
   "metadata": {},
   "source": [
    "How similar are vectors $\\mathbf{x}$ and $\\mathbf{v}$? Of course, the reconstructed values most likely will not look anything like the input vector, because our network has not been trained yet. Our objective is to train the model in such a way that the input vector and reconstructed vector to be same. Therefore, based on how different the input values look to the ones that we just reconstructed, the weights are adjusted. \n"
   ]
  },
  {
   "cell_type": "markdown",
   "metadata": {},
   "source": [
    "<hr>\n"
   ]
  },
  {
   "cell_type": "markdown",
   "metadata": {},
   "source": [
    "\n",
    "<h2>MNIST</h2>\n"
   ]
  },
  {
   "cell_type": "markdown",
   "metadata": {},
   "source": [
    "We will be using the MNIST dataset to practice the usage of RBMs. The following cell loads the MNIST dataset.\n"
   ]
  },
  {
   "cell_type": "code",
   "execution_count": 10,
   "metadata": {
    "tags": []
   },
   "outputs": [
    {
     "name": "stdout",
     "output_type": "stream",
     "text": [
      "Downloading data from https://storage.googleapis.com/tensorflow/tf-keras-datasets/mnist.npz\n",
      "11490434/11490434 [==============================] - 0s 0us/step\n"
     ]
    }
   ],
   "source": [
    "#loading training and test data\n",
    "mnist = tf.keras.datasets.mnist\n",
    "(trX, trY), (teX, teY) = mnist.load_data()\n",
    "\n",
    "# showing an example of the Flatten class and operation\n",
    "from tensorflow.keras.layers import Flatten\n",
    "flatten = Flatten(dtype='float32')\n",
    "trX = flatten(trX/255.0)\n",
    "trY = flatten(trY/255.0)"
   ]
  },
  {
   "cell_type": "markdown",
   "metadata": {},
   "source": [
    "Lets look at the dimension of the images.\n"
   ]
  },
  {
   "cell_type": "markdown",
   "metadata": {},
   "source": [
    "MNIST images have 784 pixels, so the visible layer must have 784 input nodes.  For our case, we'll use 50 nodes in the hidden layer, so i = 50.\n"
   ]
  },
  {
   "cell_type": "code",
   "execution_count": 11,
   "metadata": {
    "tags": []
   },
   "outputs": [],
   "source": [
    "vb = tf.Variable(tf.zeros([784]), tf.float32)\n",
    "hb = tf.Variable(tf.zeros([50]), tf.float32)"
   ]
  },
  {
   "cell_type": "markdown",
   "metadata": {},
   "source": [
    "Let $\\mathbf W$ be the Tensor of 784x50 (784 - number of visible neurons, 50 - number of hidden neurons) that represents weights between the neurons. \n"
   ]
  },
  {
   "cell_type": "code",
   "execution_count": 12,
   "metadata": {
    "tags": []
   },
   "outputs": [],
   "source": [
    "W = tf.Variable(tf.zeros([784,50]), tf.float32)"
   ]
  },
  {
   "cell_type": "markdown",
   "metadata": {},
   "source": [
    "Lets define the visible layer:\n"
   ]
  },
  {
   "cell_type": "code",
   "execution_count": 13,
   "metadata": {
    "tags": []
   },
   "outputs": [
    {
     "data": {
      "text/plain": [
       "<tf.Tensor: shape=(1, 50), dtype=float32, numpy=\n",
       "array([[0., 0., 0., 0., 0., 0., 0., 0., 0., 0., 0., 0., 0., 0., 0., 0.,\n",
       "        0., 0., 0., 0., 0., 0., 0., 0., 0., 0., 0., 0., 0., 0., 0., 0.,\n",
       "        0., 0., 0., 0., 0., 0., 0., 0., 0., 0., 0., 0., 0., 0., 0., 0.,\n",
       "        0., 0.]], dtype=float32)>"
      ]
     },
     "execution_count": 13,
     "metadata": {},
     "output_type": "execute_result"
    }
   ],
   "source": [
    "v0_state = tf.Variable(tf.zeros([784]), tf.float32)\n",
    "\n",
    "#testing to see if the matrix product works\n",
    "tf.matmul( [v0_state], W)"
   ]
  },
  {
   "cell_type": "markdown",
   "metadata": {},
   "source": [
    "Now, we can define hidden layer:\n"
   ]
  },
  {
   "cell_type": "code",
   "execution_count": 14,
   "metadata": {
    "tags": []
   },
   "outputs": [
    {
     "name": "stdout",
     "output_type": "stream",
     "text": [
      "h0_state shape:  tf.Tensor([ 1 50], shape=(2,), dtype=int32)\n",
      "first 15 hidden states:  tf.Tensor([0. 1. 1. 1. 0. 1. 1. 0. 0. 1. 0. 0. 1. 1. 0.], shape=(15,), dtype=float32)\n"
     ]
    }
   ],
   "source": [
    "#computing the hidden nodes probability vector and checking shape\n",
    "h0_prob = tf.nn.sigmoid(tf.matmul([v0_state], W) + hb)  #probabilities of the hidden units\n",
    "print(\"h0_state shape: \" , tf.shape(h0_prob))\n",
    "\n",
    "#defining a function to return only the generated hidden states \n",
    "def hidden_layer(v0_state, W, hb):\n",
    "    h0_prob = tf.nn.sigmoid(tf.matmul([v0_state], W) + hb)  #probabilities of the hidden units\n",
    "    h0_state = tf.nn.relu(tf.sign(h0_prob - tf.random.uniform(tf.shape(h0_prob)))) #sample_h_given_X\n",
    "    return h0_state\n",
    "\n",
    "\n",
    "h0_state = hidden_layer(v0_state, W, hb)\n",
    "print(\"first 15 hidden states: \", h0_state[0][0:15])"
   ]
  },
  {
   "cell_type": "markdown",
   "metadata": {},
   "source": [
    "Now, we define reconstruction part:\n"
   ]
  },
  {
   "cell_type": "code",
   "execution_count": 15,
   "metadata": {
    "tags": []
   },
   "outputs": [
    {
     "name": "stdout",
     "output_type": "stream",
     "text": [
      "hidden state shape:  (1, 50)\n",
      "v0 state shape:   (784,)\n",
      "v1 state shape:   (784,)\n"
     ]
    }
   ],
   "source": [
    "def reconstructed_output(h0_state, W, vb):\n",
    "    v1_prob = tf.nn.sigmoid(tf.matmul(h0_state, tf.transpose(W)) + vb) \n",
    "    v1_state = tf.nn.relu(tf.sign(v1_prob - tf.random.uniform(tf.shape(v1_prob)))) #sample_v_given_h\n",
    "    return v1_state[0]\n",
    "\n",
    "v1_state = reconstructed_output(h0_state, W, vb)\n",
    "print(\"hidden state shape: \", h0_state.shape)\n",
    "print(\"v0 state shape:  \", v0_state.shape)\n",
    "print(\"v1 state shape:  \", v1_state.shape)"
   ]
  },
  {
   "cell_type": "markdown",
   "metadata": {},
   "source": [
    "<h3>What is the objective function?</h3>\n",
    "\n",
    "<b>Goal</b>: Maximize the likelihood of our data being drawn from that distribution\n",
    "\n",
    "<b>Calculate error:</b>  \n",
    "In each epoch, we compute the \"error\" as a sum of the squared difference between step 1 and step n,\n",
    "e.g the error shows the difference between the data and its reconstruction.\n",
    "\n",
    "<b>Note:</b> tf.reduce_mean computes the mean of elements across dimensions of a tensor.\n"
   ]
  },
  {
   "cell_type": "code",
   "execution_count": 16,
   "metadata": {
    "tags": []
   },
   "outputs": [
    {
     "name": "stdout",
     "output_type": "stream",
     "text": [
      "error 0.50510204\n"
     ]
    }
   ],
   "source": [
    "def error(v0_state, v1_state):\n",
    "    return tf.reduce_mean(tf.square(v0_state - v1_state))\n",
    "\n",
    "err = tf.reduce_mean(tf.square(v0_state - v1_state))\n",
    "print(\"error\" , err.numpy())"
   ]
  },
  {
   "cell_type": "markdown",
   "metadata": {},
   "source": [
    "<a id=\"ref4\"></a>\n",
    "<h3>Training the Model</h3>\n",
    "<b>Warning...</b> The following part is math-heavy, but you can skip it if you just want to run the cells in the next section.\n",
    "\n",
    "As mentioned, we want to give a high probability to the input data we train on. So, in order to train an RBM, we have to maximize the product of probabilities assigned to all rows $\\mathbf{v}$ (images) in the training set $\\mathbf{V}$ (a matrix, where each row of it is treated as a visible vector $\\mathbf{v}$)\n",
    "\n",
    "$$\\arg \\max_W \\prod_{\\mathbf{v}\\in\\mathbf{V}_T} p(\\mathbf{v})$$\n",
    "\n",
    "\n",
    "which is equivalent to maximizing the expectation of the log probability, given as\n",
    "\n",
    "$$\\arg\\max_W\\left[ \\mathbb{E} \\left(\\prod_{\\mathbf v\\in \\mathbf V}\\text{log} \\left(p(\\mathbf v)\\right) \\right) \\right].$$\n",
    "\n",
    "\n",
    "So, we have to update the weights $W_{ij}$  to increase $p(\\mathbf{v})$ for all $\\mathbf{v}$ in our training data during training. So we have to calculate the derivative:\n",
    "\n",
    "\n",
    "$$\\frac{\\partial \\log p(\\mathbf v)}{\\partial W_{ij}}$$\n",
    "\n",
    "This cannot be easily done by typical <b>gradient descent (SGD)</b>, so we can use another approach, which has 2 steps:\n",
    "<ol>\n",
    "    <li>Gibbs Sampling</li>\n",
    "    <li>Contrastive Divergence</li>\n",
    "</ol>    \n",
    "    \n",
    "<h3>Gibbs Sampling</h3>   \n",
    "\n",
    "<h4>Gibbs Sampling Step 1</h4> \n",
    "Given an input vector $\\mathbf{v}$, we are using $p(\\mathbf{h}|\\mathbf{v})$ to predict the hidden values $\\mathbf{h}$. \n",
    "  $$p({h_j}|\\mathbf v)= \\sigma\\left(\\sum_{i=1}^V W_{ij} v_i + h_{bias} \\right)$$\n",
    "The samples are generated from this distribution by generating the uniform random variate vector $\\mathbf{\\xi} \\sim U[0,1]$ of length $H$ and comparing to the computed probabilities as\n",
    "\n",
    "\n",
    "<center>If $\\xi_j>p(h_{j}|\\mathbf{v})$, then $h_j=1$, else $h_j=0$.</center>\n",
    "\n",
    "\n",
    "<h4>Gibbs Sampling Step 2</h4> \n",
    "Then, knowing the hidden values, we use $p(\\mathbf v| \\mathbf h)$ for reconstructing of new input values v. \n",
    "\n",
    "   $$p({v_i}|\\mathbf h)= \\sigma\\left(\\sum_{j=1}^H W^{T}_{ij} h_j + v_{bias} \\right)$$\n",
    "\n",
    "\n",
    "The samples are generated from this distribution by generating a uniform random variate vector $\\mathbf{\\xi} \\sim U[0,1]$ of length $V$ and comparing to the computed probabilities as\n",
    "\n",
    "<center>If $\\xi_i>p(v_{i}|\\mathbf{h})$, then $v_i=1$, else $v_i=0$.</center>\n",
    "\n",
    "Let vectors $\\mathbf v_k$ and $\\mathbf h_k$ be for the $k$th iteration.  In general, the $kth$ state is generrated as: \n",
    "\n",
    "\n",
    "    \n",
    "<b>Iteration</b> $k$: \n",
    "\n",
    "$$\\mathbf v_{k-1} \\Rightarrow p(\\mathbf h_{k-1}|\\mathbf v_{k-1})\\Rightarrow \\mathbf h_{k-1}\\Rightarrow p(\\mathbf v_{k}|\\mathbf h_{k-1})\\Rightarrow \\mathbf v_k$$       \n",
    "    \n",
    "<h3>Contrastive Divergence (CD-k)</h3>\n",
    "The update of the weight matrix is done during the Contrastive Divergence step. \n",
    "\n",
    "Vectors v0 and vk are used to calculate the activation probabilities for hidden values h0 and hk. The difference between the outer products of those probabilities with input vectors v0 and vk results in the update matrix:\n",
    "\n",
    "\n",
    "$$\\Delta \\mathbf W_k =\\mathbf v_k \\otimes \\mathbf h_k - \\mathbf v_{k-1} \\otimes \\mathbf h_{k-1}$$\n",
    "\n",
    "Contrastive Divergence is actually matrix of values that is computed and used to adjust values of the $\\mathbf W$ matrix. Changing $\\mathbf W$ incrementally leads to training of the  $\\mathbf W$ values. Then, on each step (epoch), $\\mathbf W$ is updated using the following:\n",
    "\n",
    "$$\\mathbf W_k = \\mathbf W_{k-1} + \\alpha * \\Delta \\mathbf W_k$$\n",
    "\n",
    "\n",
    "\n",
    "Reconstruction steps:\n",
    "<ul>\n",
    "    <li> Get one data point from data set, like <i>x</i>, and pass it through the following steps:</li>\n",
    "    \n",
    "<b>Iteration</b> $k=1$: \n",
    "    \n",
    "Sampling (starting with input image)\n",
    "    $$\\mathbf x = \\mathbf v_0 \\Rightarrow p(\\mathbf h_0|\\mathbf v_0)\\Rightarrow \\mathbf h_0 \\Rightarrow p(\\mathbf v_1|\\mathbf h_0)\\Rightarrow \\mathbf v_1$$   \n",
    "    followed by the CD-k step\n",
    "$$\\Delta \\mathbf W_1 =\\mathbf v_1 \\otimes \\mathbf h_1 - \\mathbf v_{0} \\otimes \\mathbf h_{0}$$     \n",
    "$$\\mathbf W_1 = \\mathbf W_{0} + \\alpha * \\Delta \\mathbf W_1$$ \n",
    " \n",
    "<li> $\\mathbf v_1$ is the reconstruction of $\\mathbf x$ sent to the next iteration).</li>\n",
    "\n",
    "<b>Iteration</b> $k=2$: \n",
    "\n",
    "Sampling (starting with $\\mathbf v_1$)\n",
    "\n",
    "$$\\mathbf v_1 \\Rightarrow p(\\mathbf h_1|\\mathbf v_1)\\Rightarrow \\mathbf h_1\\Rightarrow p(\\mathbf v_2|\\mathbf h_1)\\Rightarrow \\mathbf v_2$$   \n",
    "\n",
    "followed by the CD-k step\n",
    "$$\\Delta \\mathbf W_2 =\\mathbf v_2 \\otimes \\mathbf h_2 - \\mathbf v_{1} \\otimes \\mathbf h_{1}$$     \n",
    "$$\\mathbf W_2 = \\mathbf W_{1} + \\alpha * \\Delta \\mathbf W_2$$ \n",
    "\n",
    "<li> $\\mathbf v_2$ is the reconstruction of $\\mathbf v_1$ sent to the next iteration).</li>    \n",
    "      \n",
    "<b>Iteration</b> $k=K$:\n",
    "    \n",
    "Sampling (starting with $\\mathbf v_{K-1}$)\n",
    "\n",
    "$$\\mathbf v_{K-1} \\Rightarrow p(\\mathbf h_{K-1}|\\mathbf v_{K-1})\\Rightarrow \\mathbf h_{K-1}\\Rightarrow p(\\mathbf v_K|\\mathbf h_{K-1})\\Rightarrow \\mathbf v_K$$   \n",
    "\n",
    "followed by the CD-k step\n",
    "$$\\Delta \\mathbf W_K =\\mathbf v_K \\otimes \\mathbf h_K - \\mathbf v_{K-1} \\otimes \\mathbf h_{K-1}$$     \n",
    "$$\\mathbf W_K = \\mathbf W_{K-1} + \\alpha * \\Delta \\mathbf W_K$$ \n",
    "    \n",
    "<b>What is $\\alpha$?</b>  \n",
    "Here, alpha is some small step size, and is also known as the \"learning rate\".\n"
   ]
  },
  {
   "cell_type": "markdown",
   "metadata": {},
   "source": [
    "$K$ is adjustable, and good performance can be achieved with $K=1$, so that we just take one set of sampling steps per image.\n"
   ]
  },
  {
   "cell_type": "code",
   "execution_count": 17,
   "metadata": {
    "tags": []
   },
   "outputs": [],
   "source": [
    "h1_prob = tf.nn.sigmoid(tf.matmul([v1_state], W) + hb)\n",
    "h1_state = tf.nn.relu(tf.sign(h1_prob - tf.random.uniform(tf.shape(h1_prob)))) #sample_h_given_X"
   ]
  },
  {
   "cell_type": "markdown",
   "metadata": {},
   "source": [
    "Lets look at the error of the first run:\n"
   ]
  },
  {
   "cell_type": "code",
   "execution_count": 18,
   "metadata": {
    "tags": []
   },
   "outputs": [
    {
     "name": "stdout",
     "output_type": "stream",
     "text": [
      "error:  tf.Tensor(0.50510204, shape=(), dtype=float32)\n"
     ]
    }
   ],
   "source": [
    "print(\"error: \", error(v0_state, v1_state))"
   ]
  },
  {
   "cell_type": "code",
   "execution_count": 19,
   "metadata": {
    "tags": []
   },
   "outputs": [
    {
     "name": "stdout",
     "output_type": "stream",
     "text": [
      "Epoch: 0 batch #: 1  of 300 sample #: 199 reconstruction error: 0.159662\n",
      "Epoch: 0 batch #: 2  of 300 sample #: 199 reconstruction error: 0.223492\n",
      "Epoch: 0 batch #: 3  of 300 sample #: 199 reconstruction error: 0.110646\n",
      "Epoch: 0 batch #: 4  of 300 sample #: 199 reconstruction error: 0.137166\n",
      "Epoch: 0 batch #: 5  of 300 sample #: 199 reconstruction error: 0.110702\n",
      "Epoch: 0 batch #: 6  of 300 sample #: 199 reconstruction error: 0.203881\n",
      "Epoch: 0 batch #: 7  of 300 sample #: 199 reconstruction error: 0.094701\n",
      "Epoch: 0 batch #: 8  of 300 sample #: 199 reconstruction error: 0.099736\n",
      "Epoch: 0 batch #: 9  of 300 sample #: 199 reconstruction error: 0.094720\n",
      "Epoch: 0 batch #: 10  of 300 sample #: 199 reconstruction error: 0.175396\n",
      "Epoch: 0 batch #: 11  of 300 sample #: 199 reconstruction error: 0.082127\n",
      "Epoch: 0 batch #: 12  of 300 sample #: 199 reconstruction error: 0.127637\n",
      "Epoch: 0 batch #: 13  of 300 sample #: 199 reconstruction error: 0.059982\n",
      "Epoch: 0 batch #: 14  of 300 sample #: 199 reconstruction error: 0.103753\n",
      "Epoch: 0 batch #: 15  of 300 sample #: 199 reconstruction error: 0.102862\n",
      "Epoch: 0 batch #: 16  of 300 sample #: 199 reconstruction error: 0.087709\n",
      "Epoch: 0 batch #: 17  of 300 sample #: 199 reconstruction error: 0.066759\n",
      "Epoch: 0 batch #: 18  of 300 sample #: 199 reconstruction error: 0.149491\n",
      "Epoch: 0 batch #: 19  of 300 sample #: 199 reconstruction error: 0.134393\n",
      "Epoch: 0 batch #: 20  of 300 sample #: 199 reconstruction error: 0.099510\n",
      "Epoch: 0 batch #: 21  of 300 sample #: 199 reconstruction error: 0.091119\n",
      "Epoch: 0 batch #: 22  of 300 sample #: 199 reconstruction error: 0.093405\n",
      "Epoch: 0 batch #: 23  of 300 sample #: 199 reconstruction error: 0.092648\n",
      "Epoch: 0 batch #: 24  of 300 sample #: 199 reconstruction error: 0.127995\n",
      "Epoch: 0 batch #: 25  of 300 sample #: 199 reconstruction error: 0.089951\n",
      "Epoch: 0 batch #: 26  of 300 sample #: 199 reconstruction error: 0.100527\n",
      "Epoch: 0 batch #: 27  of 300 sample #: 199 reconstruction error: 0.112194\n",
      "Epoch: 0 batch #: 28  of 300 sample #: 199 reconstruction error: 0.077743\n",
      "Epoch: 0 batch #: 29  of 300 sample #: 199 reconstruction error: 0.084469\n",
      "Epoch: 0 batch #: 30  of 300 sample #: 199 reconstruction error: 0.095026\n",
      "Epoch: 0 batch #: 31  of 300 sample #: 199 reconstruction error: 0.093029\n",
      "Epoch: 0 batch #: 32  of 300 sample #: 199 reconstruction error: 0.111251\n",
      "Epoch: 0 batch #: 33  of 300 sample #: 199 reconstruction error: 0.063144\n",
      "Epoch: 0 batch #: 34  of 300 sample #: 199 reconstruction error: 0.077826\n",
      "Epoch: 0 batch #: 35  of 300 sample #: 199 reconstruction error: 0.078407\n",
      "Epoch: 0 batch #: 36  of 300 sample #: 199 reconstruction error: 0.084219\n",
      "Epoch: 0 batch #: 37  of 300 sample #: 199 reconstruction error: 0.056951\n",
      "Epoch: 0 batch #: 38  of 300 sample #: 199 reconstruction error: 0.070218\n",
      "Epoch: 0 batch #: 39  of 300 sample #: 199 reconstruction error: 0.096124\n",
      "Epoch: 0 batch #: 40  of 300 sample #: 199 reconstruction error: 0.105601\n",
      "Epoch: 0 batch #: 41  of 300 sample #: 199 reconstruction error: 0.077998\n",
      "Epoch: 0 batch #: 42  of 300 sample #: 199 reconstruction error: 0.067360\n",
      "Epoch: 0 batch #: 43  of 300 sample #: 199 reconstruction error: 0.127484\n",
      "Epoch: 0 batch #: 44  of 300 sample #: 199 reconstruction error: 0.078978\n",
      "Epoch: 0 batch #: 45  of 300 sample #: 199 reconstruction error: 0.050343\n",
      "Epoch: 0 batch #: 46  of 300 sample #: 199 reconstruction error: 0.034988\n",
      "Epoch: 0 batch #: 47  of 300 sample #: 199 reconstruction error: 0.038389\n",
      "Epoch: 0 batch #: 48  of 300 sample #: 199 reconstruction error: 0.052531\n",
      "Epoch: 0 batch #: 49  of 300 sample #: 199 reconstruction error: 0.129385\n",
      "Epoch: 0 batch #: 50  of 300 sample #: 199 reconstruction error: 0.068990\n",
      "Epoch: 0 batch #: 51  of 300 sample #: 199 reconstruction error: 0.064031\n",
      "Epoch: 0 batch #: 52  of 300 sample #: 199 reconstruction error: 0.033930\n",
      "Epoch: 0 batch #: 53  of 300 sample #: 199 reconstruction error: 0.105402\n",
      "Epoch: 0 batch #: 54  of 300 sample #: 199 reconstruction error: 0.060452\n",
      "Epoch: 0 batch #: 55  of 300 sample #: 199 reconstruction error: 0.104227\n",
      "Epoch: 0 batch #: 56  of 300 sample #: 199 reconstruction error: 0.057026\n",
      "Epoch: 0 batch #: 57  of 300 sample #: 199 reconstruction error: 0.055277\n",
      "Epoch: 0 batch #: 58  of 300 sample #: 199 reconstruction error: 0.080054\n",
      "Epoch: 0 batch #: 59  of 300 sample #: 199 reconstruction error: 0.052995\n",
      "Epoch: 0 batch #: 60  of 300 sample #: 199 reconstruction error: 0.077823\n",
      "Epoch: 0 batch #: 61  of 300 sample #: 199 reconstruction error: 0.085649\n",
      "Epoch: 0 batch #: 62  of 300 sample #: 199 reconstruction error: 0.086886\n",
      "Epoch: 0 batch #: 63  of 300 sample #: 199 reconstruction error: 0.063249\n",
      "Epoch: 0 batch #: 64  of 300 sample #: 199 reconstruction error: 0.090624\n",
      "Epoch: 0 batch #: 65  of 300 sample #: 199 reconstruction error: 0.081603\n",
      "Epoch: 0 batch #: 66  of 300 sample #: 199 reconstruction error: 0.072475\n",
      "Epoch: 0 batch #: 67  of 300 sample #: 199 reconstruction error: 0.050440\n",
      "Epoch: 0 batch #: 68  of 300 sample #: 199 reconstruction error: 0.055000\n",
      "Epoch: 0 batch #: 69  of 300 sample #: 199 reconstruction error: 0.099554\n",
      "Epoch: 0 batch #: 70  of 300 sample #: 199 reconstruction error: 0.096023\n",
      "Epoch: 0 batch #: 71  of 300 sample #: 199 reconstruction error: 0.061919\n",
      "Epoch: 0 batch #: 72  of 300 sample #: 199 reconstruction error: 0.072385\n",
      "Epoch: 0 batch #: 73  of 300 sample #: 199 reconstruction error: 0.092216\n",
      "Epoch: 0 batch #: 74  of 300 sample #: 199 reconstruction error: 0.089992\n",
      "Epoch: 0 batch #: 75  of 300 sample #: 199 reconstruction error: 0.040720\n",
      "Epoch: 0 batch #: 76  of 300 sample #: 199 reconstruction error: 0.084699\n",
      "Epoch: 0 batch #: 77  of 300 sample #: 199 reconstruction error: 0.105396\n",
      "Epoch: 0 batch #: 78  of 300 sample #: 199 reconstruction error: 0.107461\n",
      "Epoch: 0 batch #: 79  of 300 sample #: 199 reconstruction error: 0.133007\n",
      "Epoch: 0 batch #: 80  of 300 sample #: 199 reconstruction error: 0.031406\n",
      "Epoch: 0 batch #: 81  of 300 sample #: 199 reconstruction error: 0.050574\n",
      "Epoch: 0 batch #: 82  of 300 sample #: 199 reconstruction error: 0.055786\n",
      "Epoch: 0 batch #: 83  of 300 sample #: 199 reconstruction error: 0.081652\n",
      "Epoch: 0 batch #: 84  of 300 sample #: 199 reconstruction error: 0.075262\n",
      "Epoch: 0 batch #: 85  of 300 sample #: 199 reconstruction error: 0.051926\n",
      "Epoch: 0 batch #: 86  of 300 sample #: 199 reconstruction error: 0.089510\n",
      "Epoch: 0 batch #: 87  of 300 sample #: 199 reconstruction error: 0.079342\n",
      "Epoch: 0 batch #: 88  of 300 sample #: 199 reconstruction error: 0.041907\n",
      "Epoch: 0 batch #: 89  of 300 sample #: 199 reconstruction error: 0.049714\n",
      "Epoch: 0 batch #: 90  of 300 sample #: 199 reconstruction error: 0.073734\n",
      "Epoch: 0 batch #: 91  of 300 sample #: 199 reconstruction error: 0.071405\n",
      "Epoch: 0 batch #: 92  of 300 sample #: 199 reconstruction error: 0.071216\n",
      "Epoch: 0 batch #: 93  of 300 sample #: 199 reconstruction error: 0.094549\n",
      "Epoch: 0 batch #: 94  of 300 sample #: 199 reconstruction error: 0.103261\n",
      "Epoch: 0 batch #: 95  of 300 sample #: 199 reconstruction error: 0.062859\n",
      "Epoch: 0 batch #: 96  of 300 sample #: 199 reconstruction error: 0.041380\n",
      "Epoch: 0 batch #: 97  of 300 sample #: 199 reconstruction error: 0.105265\n",
      "Epoch: 0 batch #: 98  of 300 sample #: 199 reconstruction error: 0.079910\n",
      "Epoch: 0 batch #: 99  of 300 sample #: 199 reconstruction error: 0.055725\n",
      "Epoch: 0 batch #: 100  of 300 sample #: 199 reconstruction error: 0.097078\n",
      "Epoch: 0 batch #: 101  of 300 sample #: 199 reconstruction error: 0.076553\n",
      "Epoch: 0 batch #: 102  of 300 sample #: 199 reconstruction error: 0.086348\n",
      "Epoch: 0 batch #: 103  of 300 sample #: 199 reconstruction error: 0.080480\n",
      "Epoch: 0 batch #: 104  of 300 sample #: 199 reconstruction error: 0.071568\n",
      "Epoch: 0 batch #: 105  of 300 sample #: 199 reconstruction error: 0.053608\n",
      "Epoch: 0 batch #: 106  of 300 sample #: 199 reconstruction error: 0.110734\n",
      "Epoch: 0 batch #: 107  of 300 sample #: 199 reconstruction error: 0.136092\n",
      "Epoch: 0 batch #: 108  of 300 sample #: 199 reconstruction error: 0.059453\n",
      "Epoch: 0 batch #: 109  of 300 sample #: 199 reconstruction error: 0.103547\n",
      "Epoch: 0 batch #: 110  of 300 sample #: 199 reconstruction error: 0.072907\n",
      "Epoch: 0 batch #: 111  of 300 sample #: 199 reconstruction error: 0.104773\n",
      "Epoch: 0 batch #: 112  of 300 sample #: 199 reconstruction error: 0.042922\n",
      "Epoch: 0 batch #: 113  of 300 sample #: 199 reconstruction error: 0.082882\n",
      "Epoch: 0 batch #: 114  of 300 sample #: 199 reconstruction error: 0.087789\n",
      "Epoch: 0 batch #: 115  of 300 sample #: 199 reconstruction error: 0.058380\n",
      "Epoch: 0 batch #: 116  of 300 sample #: 199 reconstruction error: 0.045688\n",
      "Epoch: 0 batch #: 117  of 300 sample #: 199 reconstruction error: 0.036475\n",
      "Epoch: 0 batch #: 118  of 300 sample #: 199 reconstruction error: 0.084075\n",
      "Epoch: 0 batch #: 119  of 300 sample #: 199 reconstruction error: 0.129916\n",
      "Epoch: 0 batch #: 120  of 300 sample #: 199 reconstruction error: 0.074630\n",
      "Epoch: 0 batch #: 121  of 300 sample #: 199 reconstruction error: 0.060245\n",
      "Epoch: 0 batch #: 122  of 300 sample #: 199 reconstruction error: 0.085341\n",
      "Epoch: 0 batch #: 123  of 300 sample #: 199 reconstruction error: 0.060682\n",
      "Epoch: 0 batch #: 124  of 300 sample #: 199 reconstruction error: 0.073599\n",
      "Epoch: 0 batch #: 125  of 300 sample #: 199 reconstruction error: 0.047822\n",
      "Epoch: 0 batch #: 126  of 300 sample #: 199 reconstruction error: 0.090434\n",
      "Epoch: 0 batch #: 127  of 300 sample #: 199 reconstruction error: 0.088239\n",
      "Epoch: 0 batch #: 128  of 300 sample #: 199 reconstruction error: 0.073114\n",
      "Epoch: 0 batch #: 129  of 300 sample #: 199 reconstruction error: 0.049194\n",
      "Epoch: 0 batch #: 130  of 300 sample #: 199 reconstruction error: 0.077825\n",
      "Epoch: 0 batch #: 131  of 300 sample #: 199 reconstruction error: 0.065633\n",
      "Epoch: 0 batch #: 132  of 300 sample #: 199 reconstruction error: 0.038668\n",
      "Epoch: 0 batch #: 133  of 300 sample #: 199 reconstruction error: 0.052708\n",
      "Epoch: 0 batch #: 134  of 300 sample #: 199 reconstruction error: 0.095632\n",
      "Epoch: 0 batch #: 135  of 300 sample #: 199 reconstruction error: 0.101626\n",
      "Epoch: 0 batch #: 136  of 300 sample #: 199 reconstruction error: 0.110263\n",
      "Epoch: 0 batch #: 137  of 300 sample #: 199 reconstruction error: 0.072412\n",
      "Epoch: 0 batch #: 138  of 300 sample #: 199 reconstruction error: 0.066865\n",
      "Epoch: 0 batch #: 139  of 300 sample #: 199 reconstruction error: 0.095104\n",
      "Epoch: 0 batch #: 140  of 300 sample #: 199 reconstruction error: 0.085175\n",
      "Epoch: 0 batch #: 141  of 300 sample #: 199 reconstruction error: 0.086692\n",
      "Epoch: 0 batch #: 142  of 300 sample #: 199 reconstruction error: 0.062166\n",
      "Epoch: 0 batch #: 143  of 300 sample #: 199 reconstruction error: 0.059813\n",
      "Epoch: 0 batch #: 144  of 300 sample #: 199 reconstruction error: 0.048575\n",
      "Epoch: 0 batch #: 145  of 300 sample #: 199 reconstruction error: 0.086999\n",
      "Epoch: 0 batch #: 146  of 300 sample #: 199 reconstruction error: 0.101519\n",
      "Epoch: 0 batch #: 147  of 300 sample #: 199 reconstruction error: 0.087702\n",
      "Epoch: 0 batch #: 148  of 300 sample #: 199 reconstruction error: 0.090666\n",
      "Epoch: 0 batch #: 149  of 300 sample #: 199 reconstruction error: 0.046188\n",
      "Epoch: 0 batch #: 150  of 300 sample #: 199 reconstruction error: 0.038593\n",
      "Epoch: 0 batch #: 151  of 300 sample #: 199 reconstruction error: 0.095232\n",
      "Epoch: 0 batch #: 152  of 300 sample #: 199 reconstruction error: 0.080043\n",
      "Epoch: 0 batch #: 153  of 300 sample #: 199 reconstruction error: 0.063273\n",
      "Epoch: 0 batch #: 154  of 300 sample #: 199 reconstruction error: 0.065149\n",
      "Epoch: 0 batch #: 155  of 300 sample #: 199 reconstruction error: 0.064649\n",
      "Epoch: 0 batch #: 156  of 300 sample #: 199 reconstruction error: 0.069880\n",
      "Epoch: 0 batch #: 157  of 300 sample #: 199 reconstruction error: 0.089978\n",
      "Epoch: 0 batch #: 158  of 300 sample #: 199 reconstruction error: 0.081334\n",
      "Epoch: 0 batch #: 159  of 300 sample #: 199 reconstruction error: 0.045131\n",
      "Epoch: 0 batch #: 160  of 300 sample #: 199 reconstruction error: 0.076055\n",
      "Epoch: 0 batch #: 161  of 300 sample #: 199 reconstruction error: 0.067219\n",
      "Epoch: 0 batch #: 162  of 300 sample #: 199 reconstruction error: 0.119116\n",
      "Epoch: 0 batch #: 163  of 300 sample #: 199 reconstruction error: 0.042508\n",
      "Epoch: 0 batch #: 164  of 300 sample #: 199 reconstruction error: 0.080146\n",
      "Epoch: 0 batch #: 165  of 300 sample #: 199 reconstruction error: 0.084056\n",
      "Epoch: 0 batch #: 166  of 300 sample #: 199 reconstruction error: 0.045915\n",
      "Epoch: 0 batch #: 167  of 300 sample #: 199 reconstruction error: 0.077926\n",
      "Epoch: 0 batch #: 168  of 300 sample #: 199 reconstruction error: 0.058820\n",
      "Epoch: 0 batch #: 169  of 300 sample #: 199 reconstruction error: 0.035410\n",
      "Epoch: 0 batch #: 170  of 300 sample #: 199 reconstruction error: 0.054767\n",
      "Epoch: 0 batch #: 171  of 300 sample #: 199 reconstruction error: 0.034187\n",
      "Epoch: 0 batch #: 172  of 300 sample #: 199 reconstruction error: 0.049837\n",
      "Epoch: 0 batch #: 173  of 300 sample #: 199 reconstruction error: 0.070273\n",
      "Epoch: 0 batch #: 174  of 300 sample #: 199 reconstruction error: 0.092727\n",
      "Epoch: 0 batch #: 175  of 300 sample #: 199 reconstruction error: 0.058543\n",
      "Epoch: 0 batch #: 176  of 300 sample #: 199 reconstruction error: 0.023277\n",
      "Epoch: 0 batch #: 177  of 300 sample #: 199 reconstruction error: 0.034636\n",
      "Epoch: 0 batch #: 178  of 300 sample #: 199 reconstruction error: 0.107866\n",
      "Epoch: 0 batch #: 179  of 300 sample #: 199 reconstruction error: 0.074249\n",
      "Epoch: 0 batch #: 180  of 300 sample #: 199 reconstruction error: 0.089714\n",
      "Epoch: 0 batch #: 181  of 300 sample #: 199 reconstruction error: 0.087950\n",
      "Epoch: 0 batch #: 182  of 300 sample #: 199 reconstruction error: 0.102452\n",
      "Epoch: 0 batch #: 183  of 300 sample #: 199 reconstruction error: 0.122999\n",
      "Epoch: 0 batch #: 184  of 300 sample #: 199 reconstruction error: 0.066589\n",
      "Epoch: 0 batch #: 185  of 300 sample #: 199 reconstruction error: 0.087209\n",
      "Epoch: 0 batch #: 186  of 300 sample #: 199 reconstruction error: 0.126198\n",
      "Epoch: 0 batch #: 187  of 300 sample #: 199 reconstruction error: 0.066692\n",
      "Epoch: 0 batch #: 188  of 300 sample #: 199 reconstruction error: 0.104852\n",
      "Epoch: 0 batch #: 189  of 300 sample #: 199 reconstruction error: 0.106243\n",
      "Epoch: 0 batch #: 190  of 300 sample #: 199 reconstruction error: 0.062428\n",
      "Epoch: 0 batch #: 191  of 300 sample #: 199 reconstruction error: 0.110810\n",
      "Epoch: 0 batch #: 192  of 300 sample #: 199 reconstruction error: 0.132739\n",
      "Epoch: 0 batch #: 193  of 300 sample #: 199 reconstruction error: 0.098282\n",
      "Epoch: 0 batch #: 194  of 300 sample #: 199 reconstruction error: 0.083976\n",
      "Epoch: 0 batch #: 195  of 300 sample #: 199 reconstruction error: 0.050600\n",
      "Epoch: 0 batch #: 196  of 300 sample #: 199 reconstruction error: 0.042481\n",
      "Epoch: 0 batch #: 197  of 300 sample #: 199 reconstruction error: 0.045396\n",
      "Epoch: 0 batch #: 198  of 300 sample #: 199 reconstruction error: 0.094481\n",
      "Epoch: 0 batch #: 199  of 300 sample #: 199 reconstruction error: 0.070415\n",
      "Epoch: 0 batch #: 200  of 300 sample #: 199 reconstruction error: 0.083529\n",
      "Epoch: 0 batch #: 201  of 300 sample #: 199 reconstruction error: 0.107819\n",
      "Epoch: 0 batch #: 202  of 300 sample #: 199 reconstruction error: 0.024172\n",
      "Epoch: 0 batch #: 203  of 300 sample #: 199 reconstruction error: 0.116992\n",
      "Epoch: 0 batch #: 204  of 300 sample #: 199 reconstruction error: 0.055891\n",
      "Epoch: 0 batch #: 205  of 300 sample #: 199 reconstruction error: 0.022576\n",
      "Epoch: 0 batch #: 206  of 300 sample #: 199 reconstruction error: 0.067904\n",
      "Epoch: 0 batch #: 207  of 300 sample #: 199 reconstruction error: 0.084974\n",
      "Epoch: 0 batch #: 208  of 300 sample #: 199 reconstruction error: 0.068076\n",
      "Epoch: 0 batch #: 209  of 300 sample #: 199 reconstruction error: 0.026984\n",
      "Epoch: 0 batch #: 210  of 300 sample #: 199 reconstruction error: 0.101843\n",
      "Epoch: 0 batch #: 211  of 300 sample #: 199 reconstruction error: 0.073877\n",
      "Epoch: 0 batch #: 212  of 300 sample #: 199 reconstruction error: 0.099038\n",
      "Epoch: 0 batch #: 213  of 300 sample #: 199 reconstruction error: 0.100173\n",
      "Epoch: 0 batch #: 214  of 300 sample #: 199 reconstruction error: 0.112178\n",
      "Epoch: 0 batch #: 215  of 300 sample #: 199 reconstruction error: 0.026821\n",
      "Epoch: 0 batch #: 216  of 300 sample #: 199 reconstruction error: 0.093804\n",
      "Epoch: 0 batch #: 217  of 300 sample #: 199 reconstruction error: 0.074543\n",
      "Epoch: 0 batch #: 218  of 300 sample #: 199 reconstruction error: 0.071768\n",
      "Epoch: 0 batch #: 219  of 300 sample #: 199 reconstruction error: 0.074332\n",
      "Epoch: 0 batch #: 220  of 300 sample #: 199 reconstruction error: 0.068329\n",
      "Epoch: 0 batch #: 221  of 300 sample #: 199 reconstruction error: 0.093410\n",
      "Epoch: 0 batch #: 222  of 300 sample #: 199 reconstruction error: 0.090443\n",
      "Epoch: 0 batch #: 223  of 300 sample #: 199 reconstruction error: 0.065985\n",
      "Epoch: 0 batch #: 224  of 300 sample #: 199 reconstruction error: 0.062285\n",
      "Epoch: 0 batch #: 225  of 300 sample #: 199 reconstruction error: 0.081508\n",
      "Epoch: 0 batch #: 226  of 300 sample #: 199 reconstruction error: 0.133725\n",
      "Epoch: 0 batch #: 227  of 300 sample #: 199 reconstruction error: 0.083348\n",
      "Epoch: 0 batch #: 228  of 300 sample #: 199 reconstruction error: 0.076670\n",
      "Epoch: 0 batch #: 229  of 300 sample #: 199 reconstruction error: 0.073739\n",
      "Epoch: 0 batch #: 230  of 300 sample #: 199 reconstruction error: 0.039440\n",
      "Epoch: 0 batch #: 231  of 300 sample #: 199 reconstruction error: 0.025904\n",
      "Epoch: 0 batch #: 232  of 300 sample #: 199 reconstruction error: 0.069124\n",
      "Epoch: 0 batch #: 233  of 300 sample #: 199 reconstruction error: 0.075962\n",
      "Epoch: 0 batch #: 234  of 300 sample #: 199 reconstruction error: 0.072085\n",
      "Epoch: 0 batch #: 235  of 300 sample #: 199 reconstruction error: 0.067489\n",
      "Epoch: 0 batch #: 236  of 300 sample #: 199 reconstruction error: 0.103773\n",
      "Epoch: 0 batch #: 237  of 300 sample #: 199 reconstruction error: 0.076499\n",
      "Epoch: 0 batch #: 238  of 300 sample #: 199 reconstruction error: 0.107112\n",
      "Epoch: 0 batch #: 239  of 300 sample #: 199 reconstruction error: 0.025739\n",
      "Epoch: 0 batch #: 240  of 300 sample #: 199 reconstruction error: 0.102278\n",
      "Epoch: 0 batch #: 241  of 300 sample #: 199 reconstruction error: 0.077974\n",
      "Epoch: 0 batch #: 242  of 300 sample #: 199 reconstruction error: 0.071455\n",
      "Epoch: 0 batch #: 243  of 300 sample #: 199 reconstruction error: 0.069450\n",
      "Epoch: 0 batch #: 244  of 300 sample #: 199 reconstruction error: 0.095544\n",
      "Epoch: 0 batch #: 245  of 300 sample #: 199 reconstruction error: 0.051519\n",
      "Epoch: 0 batch #: 246  of 300 sample #: 199 reconstruction error: 0.085419\n",
      "Epoch: 0 batch #: 247  of 300 sample #: 199 reconstruction error: 0.041693\n",
      "Epoch: 0 batch #: 248  of 300 sample #: 199 reconstruction error: 0.057923\n",
      "Epoch: 0 batch #: 249  of 300 sample #: 199 reconstruction error: 0.047852\n",
      "Epoch: 0 batch #: 250  of 300 sample #: 199 reconstruction error: 0.081969\n",
      "Epoch: 0 batch #: 251  of 300 sample #: 199 reconstruction error: 0.054033\n",
      "Epoch: 0 batch #: 252  of 300 sample #: 199 reconstruction error: 0.070562\n",
      "Epoch: 0 batch #: 253  of 300 sample #: 199 reconstruction error: 0.055065\n",
      "Epoch: 0 batch #: 254  of 300 sample #: 199 reconstruction error: 0.036260\n",
      "Epoch: 0 batch #: 255  of 300 sample #: 199 reconstruction error: 0.051761\n",
      "Epoch: 0 batch #: 256  of 300 sample #: 199 reconstruction error: 0.071748\n",
      "Epoch: 0 batch #: 257  of 300 sample #: 199 reconstruction error: 0.092774\n",
      "Epoch: 0 batch #: 258  of 300 sample #: 199 reconstruction error: 0.096687\n",
      "Epoch: 0 batch #: 259  of 300 sample #: 199 reconstruction error: 0.076414\n",
      "Epoch: 0 batch #: 260  of 300 sample #: 199 reconstruction error: 0.083072\n",
      "Epoch: 0 batch #: 261  of 300 sample #: 199 reconstruction error: 0.045681\n",
      "Epoch: 0 batch #: 262  of 300 sample #: 199 reconstruction error: 0.057975\n",
      "Epoch: 0 batch #: 263  of 300 sample #: 199 reconstruction error: 0.076246\n",
      "Epoch: 0 batch #: 264  of 300 sample #: 199 reconstruction error: 0.076045\n",
      "Epoch: 0 batch #: 265  of 300 sample #: 199 reconstruction error: 0.072099\n",
      "Epoch: 0 batch #: 266  of 300 sample #: 199 reconstruction error: 0.029491\n",
      "Epoch: 0 batch #: 267  of 300 sample #: 199 reconstruction error: 0.068111\n",
      "Epoch: 0 batch #: 268  of 300 sample #: 199 reconstruction error: 0.023144\n",
      "Epoch: 0 batch #: 269  of 300 sample #: 199 reconstruction error: 0.099522\n",
      "Epoch: 0 batch #: 270  of 300 sample #: 199 reconstruction error: 0.086963\n",
      "Epoch: 0 batch #: 271  of 300 sample #: 199 reconstruction error: 0.052246\n",
      "Epoch: 0 batch #: 272  of 300 sample #: 199 reconstruction error: 0.066508\n",
      "Epoch: 0 batch #: 273  of 300 sample #: 199 reconstruction error: 0.044668\n",
      "Epoch: 0 batch #: 274  of 300 sample #: 199 reconstruction error: 0.052936\n",
      "Epoch: 0 batch #: 275  of 300 sample #: 199 reconstruction error: 0.109255\n",
      "Epoch: 0 batch #: 276  of 300 sample #: 199 reconstruction error: 0.084191\n",
      "Epoch: 0 batch #: 277  of 300 sample #: 199 reconstruction error: 0.071889\n",
      "Epoch: 0 batch #: 278  of 300 sample #: 199 reconstruction error: 0.055093\n",
      "Epoch: 0 batch #: 279  of 300 sample #: 199 reconstruction error: 0.043738\n",
      "Epoch: 0 batch #: 280  of 300 sample #: 199 reconstruction error: 0.065794\n",
      "Epoch: 0 batch #: 281  of 300 sample #: 199 reconstruction error: 0.073004\n",
      "Epoch: 0 batch #: 282  of 300 sample #: 199 reconstruction error: 0.108852\n",
      "Epoch: 0 batch #: 283  of 300 sample #: 199 reconstruction error: 0.041490\n",
      "Epoch: 0 batch #: 284  of 300 sample #: 199 reconstruction error: 0.052768\n",
      "Epoch: 0 batch #: 285  of 300 sample #: 199 reconstruction error: 0.052370\n",
      "Epoch: 0 batch #: 286  of 300 sample #: 199 reconstruction error: 0.093458\n",
      "Epoch: 0 batch #: 287  of 300 sample #: 199 reconstruction error: 0.073220\n",
      "Epoch: 0 batch #: 288  of 300 sample #: 199 reconstruction error: 0.023120\n",
      "Epoch: 0 batch #: 289  of 300 sample #: 199 reconstruction error: 0.085747\n",
      "Epoch: 0 batch #: 290  of 300 sample #: 199 reconstruction error: 0.103081\n",
      "Epoch: 0 batch #: 291  of 300 sample #: 199 reconstruction error: 0.107483\n",
      "Epoch: 0 batch #: 292  of 300 sample #: 199 reconstruction error: 0.072393\n",
      "Epoch: 0 batch #: 293  of 300 sample #: 199 reconstruction error: 0.065719\n",
      "Epoch: 0 batch #: 294  of 300 sample #: 199 reconstruction error: 0.083567\n",
      "Epoch: 0 batch #: 295  of 300 sample #: 199 reconstruction error: 0.081900\n",
      "Epoch: 0 batch #: 296  of 300 sample #: 199 reconstruction error: 0.032546\n",
      "Epoch: 0 batch #: 297  of 300 sample #: 199 reconstruction error: 0.119062\n",
      "Epoch: 0 batch #: 298  of 300 sample #: 199 reconstruction error: 0.043944\n",
      "Epoch: 0 batch #: 299  of 300 sample #: 199 reconstruction error: 0.054437\n",
      "Epoch: 0 batch #: 300  of 300 sample #: 199 reconstruction error: 0.081954\n"
     ]
    }
   ],
   "source": [
    "#Parameters\n",
    "alpha = 0.01\n",
    "epochs = 1\n",
    "batchsize = 200\n",
    "weights = []\n",
    "errors = []\n",
    "batch_number = 0\n",
    "K = 1\n",
    "\n",
    "#creating datasets\n",
    "train_ds = \\\n",
    "    tf.data.Dataset.from_tensor_slices((trX, trY)).batch(batchsize)\n",
    "\n",
    "for epoch in range(epochs):\n",
    "    for batch_x, batch_y in train_ds:\n",
    "        batch_number += 1\n",
    "        for i_sample in range(batchsize):           \n",
    "            for k in range(K):\n",
    "                v0_state = batch_x[i_sample]\n",
    "                h0_state = hidden_layer(v0_state, W, hb)\n",
    "                v1_state = reconstructed_output(h0_state, W, vb)\n",
    "                h1_state = hidden_layer(v1_state, W, hb)\n",
    "\n",
    "                delta_W = tf.matmul(tf.transpose([v0_state]), h0_state) - tf.matmul(tf.transpose([v1_state]), h1_state)\n",
    "                W = W + alpha * delta_W\n",
    "\n",
    "                vb = vb + alpha * tf.reduce_mean(v0_state - v1_state, 0)\n",
    "                hb = hb + alpha * tf.reduce_mean(h0_state - h1_state, 0) \n",
    "\n",
    "                v0_state = v1_state\n",
    "\n",
    "            if i_sample == batchsize-1:\n",
    "                err = error(batch_x[i_sample], v1_state)\n",
    "                errors.append(err)\n",
    "                weights.append(W)\n",
    "                print ( 'Epoch: %d' % epoch, \n",
    "                       \"batch #: %i \" % batch_number, \"of %i\" % int(60e3/batchsize), \n",
    "                       \"sample #: %i\" % i_sample,\n",
    "                       'reconstruction error: %f' % err)\n",
    "\n"
   ]
  },
  {
   "cell_type": "markdown",
   "metadata": {},
   "source": [
    "Let's take a look at the errors at the end of each batch:\n"
   ]
  },
  {
   "cell_type": "code",
   "execution_count": 24,
   "metadata": {
    "tags": []
   },
   "outputs": [
    {
     "data": {
      "image/png": "[encoded data removed]",
      "text/plain": [
       "<Figure size 640x480 with 1 Axes>"
      ]
     },
     "metadata": {},
     "output_type": "display_data"
    }
   ],
   "source": [
    "plt.plot(errors)\n",
    "plt.xlabel(\"Batch Number\")\n",
    "plt.ylabel(\"Error\")\n",
    "plt.show()"
   ]
  },
  {
   "cell_type": "markdown",
   "metadata": {},
   "source": [
    "What is the final weight matrix $W$ after training?\n"
   ]
  },
  {
   "cell_type": "code",
   "execution_count": 25,
   "metadata": {
    "tags": []
   },
   "outputs": [
    {
     "name": "stdout",
     "output_type": "stream",
     "text": [
      "[[-0.29999998 -0.29999998 -0.28       ... -0.3999999  -0.56999975\n",
      "  -0.5099998 ]\n",
      " [-0.26000002 -0.29       -0.22000003 ... -0.41999987 -0.6199997\n",
      "  -0.57999974]\n",
      " [-0.32999995 -0.27       -0.32999995 ... -0.3999999  -0.5199998\n",
      "  -0.5199998 ]\n",
      " ...\n",
      " [-0.33999994 -0.34999993 -0.29       ... -0.40999988 -0.66999966\n",
      "  -0.58999974]\n",
      " [-0.32999995 -0.31999996 -0.30999997 ... -0.36999992 -0.57999974\n",
      "  -0.4799998 ]\n",
      " [-0.30999997 -0.28       -0.28       ... -0.40999988 -0.55999976\n",
      "  -0.42999986]]\n"
     ]
    }
   ],
   "source": [
    "print(W.numpy()) # a weight matrix of shape (50,784)"
   ]
  },
  {
   "cell_type": "markdown",
   "metadata": {},
   "source": [
    "<a id=\"ref5\"></a>\n",
    "<h3>Learned features</h3> \n"
   ]
  },
  {
   "cell_type": "markdown",
   "metadata": {},
   "source": [
    "We can take each hidden unit and visualize the connections between that hidden unit and each element in the input vector. In our case, we have 50 hidden units. Lets visualize those.\n"
   ]
  },
  {
   "cell_type": "markdown",
   "metadata": {},
   "source": [
    "Let's plot the current weights:\n",
    "<b>tile_raster_images</b> helps in generating an easy to grasp image from a set of samples or weights. It transforms the <b>uw</b> (with one flattened image per row of size 784), into an array (of size $28\\times28$) in which images are reshaped and laid out like tiles on a floor.\n"
   ]
  },
  {
   "cell_type": "code",
   "execution_count": 26,
   "metadata": {
    "tags": []
   },
   "outputs": [
    {
     "ename": "NameError",
     "evalue": "name 'tile_raster_images' is not defined",
     "output_type": "error",
     "traceback": [
      "\u001b[0;31m---------------------------------------------------------------------------\u001b[0m",
      "\u001b[0;31mNameError\u001b[0m                                 Traceback (most recent call last)",
      "\u001b[0;32m/tmp/ipykernel_67/557658495.py\u001b[0m in \u001b[0;36m<module>\u001b[0;34m\u001b[0m\n\u001b[0;32m----> 1\u001b[0;31m \u001b[0mtile_raster_images\u001b[0m\u001b[0;34m(\u001b[0m\u001b[0mX\u001b[0m\u001b[0;34m=\u001b[0m\u001b[0mW\u001b[0m\u001b[0;34m.\u001b[0m\u001b[0mnumpy\u001b[0m\u001b[0;34m(\u001b[0m\u001b[0;34m)\u001b[0m\u001b[0;34m.\u001b[0m\u001b[0mT\u001b[0m\u001b[0;34m,\u001b[0m \u001b[0mimg_shape\u001b[0m\u001b[0;34m=\u001b[0m\u001b[0;34m(\u001b[0m\u001b[0;36m28\u001b[0m\u001b[0;34m,\u001b[0m \u001b[0;36m28\u001b[0m\u001b[0;34m)\u001b[0m\u001b[0;34m,\u001b[0m \u001b[0mtile_shape\u001b[0m\u001b[0;34m=\u001b[0m\u001b[0;34m(\u001b[0m\u001b[0;36m5\u001b[0m\u001b[0;34m,\u001b[0m \u001b[0;36m10\u001b[0m\u001b[0;34m)\u001b[0m\u001b[0;34m,\u001b[0m \u001b[0mtile_spacing\u001b[0m\u001b[0;34m=\u001b[0m\u001b[0;34m(\u001b[0m\u001b[0;36m1\u001b[0m\u001b[0;34m,\u001b[0m \u001b[0;36m1\u001b[0m\u001b[0;34m)\u001b[0m\u001b[0;34m)\u001b[0m\u001b[0;34m\u001b[0m\u001b[0;34m\u001b[0m\u001b[0m\n\u001b[0m\u001b[1;32m      2\u001b[0m \u001b[0;32mimport\u001b[0m \u001b[0mmatplotlib\u001b[0m\u001b[0;34m.\u001b[0m\u001b[0mpyplot\u001b[0m \u001b[0;32mas\u001b[0m \u001b[0mplt\u001b[0m\u001b[0;34m\u001b[0m\u001b[0;34m\u001b[0m\u001b[0m\n\u001b[1;32m      3\u001b[0m \u001b[0;32mfrom\u001b[0m \u001b[0mPIL\u001b[0m \u001b[0;32mimport\u001b[0m \u001b[0mImage\u001b[0m\u001b[0;34m\u001b[0m\u001b[0;34m\u001b[0m\u001b[0m\n\u001b[1;32m      4\u001b[0m \u001b[0mget_ipython\u001b[0m\u001b[0;34m(\u001b[0m\u001b[0;34m)\u001b[0m\u001b[0;34m.\u001b[0m\u001b[0mrun_line_magic\u001b[0m\u001b[0;34m(\u001b[0m\u001b[0;34m'matplotlib'\u001b[0m\u001b[0;34m,\u001b[0m \u001b[0;34m'inline'\u001b[0m\u001b[0;34m)\u001b[0m\u001b[0;34m\u001b[0m\u001b[0;34m\u001b[0m\u001b[0m\n\u001b[1;32m      5\u001b[0m \u001b[0mimage\u001b[0m \u001b[0;34m=\u001b[0m \u001b[0mImage\u001b[0m\u001b[0;34m.\u001b[0m\u001b[0mfromarray\u001b[0m\u001b[0;34m(\u001b[0m\u001b[0mtile_raster_images\u001b[0m\u001b[0;34m(\u001b[0m\u001b[0mX\u001b[0m\u001b[0;34m=\u001b[0m\u001b[0mW\u001b[0m\u001b[0;34m.\u001b[0m\u001b[0mnumpy\u001b[0m\u001b[0;34m(\u001b[0m\u001b[0;34m)\u001b[0m\u001b[0;34m.\u001b[0m\u001b[0mT\u001b[0m\u001b[0;34m,\u001b[0m \u001b[0mimg_shape\u001b[0m\u001b[0;34m=\u001b[0m\u001b[0;34m(\u001b[0m\u001b[0;36m28\u001b[0m\u001b[0;34m,\u001b[0m \u001b[0;36m28\u001b[0m\u001b[0;34m)\u001b[0m \u001b[0;34m,\u001b[0m\u001b[0mtile_shape\u001b[0m\u001b[0;34m=\u001b[0m\u001b[0;34m(\u001b[0m\u001b[0;36m5\u001b[0m\u001b[0;34m,\u001b[0m \u001b[0;36m10\u001b[0m\u001b[0;34m)\u001b[0m\u001b[0;34m,\u001b[0m \u001b[0mtile_spacing\u001b[0m\u001b[0;34m=\u001b[0m\u001b[0;34m(\u001b[0m\u001b[0;36m1\u001b[0m\u001b[0;34m,\u001b[0m \u001b[0;36m1\u001b[0m\u001b[0;34m)\u001b[0m\u001b[0;34m)\u001b[0m\u001b[0;34m)\u001b[0m\u001b[0;34m\u001b[0m\u001b[0;34m\u001b[0m\u001b[0m\n",
      "\u001b[0;31mNameError\u001b[0m: name 'tile_raster_images' is not defined"
     ]
    }
   ],
   "source": [
    "tile_raster_images(X=W.numpy().T, img_shape=(28, 28), tile_shape=(5, 10), tile_spacing=(1, 1))\n",
    "import matplotlib.pyplot as plt\n",
    "from PIL import Image\n",
    "%matplotlib inline\n",
    "image = Image.fromarray(tile_raster_images(X=W.numpy().T, img_shape=(28, 28) ,tile_shape=(5, 10), tile_spacing=(1, 1)))\n",
    "### Plot image\n",
    "plt.rcParams['figure.figsize'] = (18.0, 18.0)\n",
    "imgplot = plt.imshow(image)\n",
    "imgplot.set_cmap('gray')  "
   ]
  },
  {
   "cell_type": "markdown",
   "metadata": {},
   "source": [
    "Each tile in the above visualization corresponds to a vector of connections between a hidden unit and visible layer's units. \n"
   ]
  },
  {
   "cell_type": "markdown",
   "metadata": {},
   "source": [
    "Let's look at one of the learned weights corresponding to one of hidden units for example. In this particular square, the gray color represents weight = 0, and the whiter it is, the more positive the weights are (closer to 1). Conversely, the darker pixels are, the more negative the weights. The positive pixels will increase the probability of activation in hidden units (after multiplying by input/visible pixels), and negative pixels will decrease the probability of a unit hidden to be 1 (activated). So, why is this important?  So we can see that this specific square (hidden unit) can detect a feature (e.g. a \"/\" shape) and if it exists in the input.\n"
   ]
  },
  {
   "cell_type": "code",
   "execution_count": 27,
   "metadata": {
    "tags": []
   },
   "outputs": [
    {
     "ename": "NameError",
     "evalue": "name 'tile_raster_images' is not defined",
     "output_type": "error",
     "traceback": [
      "\u001b[0;31m---------------------------------------------------------------------------\u001b[0m",
      "\u001b[0;31mNameError\u001b[0m                                 Traceback (most recent call last)",
      "\u001b[0;32m/tmp/ipykernel_67/3400239828.py\u001b[0m in \u001b[0;36m<module>\u001b[0;34m\u001b[0m\n\u001b[1;32m      1\u001b[0m \u001b[0;32mfrom\u001b[0m \u001b[0mPIL\u001b[0m \u001b[0;32mimport\u001b[0m \u001b[0mImage\u001b[0m\u001b[0;34m\u001b[0m\u001b[0;34m\u001b[0m\u001b[0m\n\u001b[0;32m----> 2\u001b[0;31m \u001b[0mimage\u001b[0m \u001b[0;34m=\u001b[0m \u001b[0mImage\u001b[0m\u001b[0;34m.\u001b[0m\u001b[0mfromarray\u001b[0m\u001b[0;34m(\u001b[0m\u001b[0mtile_raster_images\u001b[0m\u001b[0;34m(\u001b[0m\u001b[0mX\u001b[0m \u001b[0;34m=\u001b[0m\u001b[0mW\u001b[0m\u001b[0;34m.\u001b[0m\u001b[0mnumpy\u001b[0m\u001b[0;34m(\u001b[0m\u001b[0;34m)\u001b[0m\u001b[0;34m.\u001b[0m\u001b[0mT\u001b[0m\u001b[0;34m[\u001b[0m\u001b[0;36m10\u001b[0m\u001b[0;34m:\u001b[0m\u001b[0;36m11\u001b[0m\u001b[0;34m]\u001b[0m\u001b[0;34m,\u001b[0m \u001b[0mimg_shape\u001b[0m\u001b[0;34m=\u001b[0m\u001b[0;34m(\u001b[0m\u001b[0;36m28\u001b[0m\u001b[0;34m,\u001b[0m \u001b[0;36m28\u001b[0m\u001b[0;34m)\u001b[0m\u001b[0;34m,\u001b[0m\u001b[0mtile_shape\u001b[0m\u001b[0;34m=\u001b[0m\u001b[0;34m(\u001b[0m\u001b[0;36m1\u001b[0m\u001b[0;34m,\u001b[0m \u001b[0;36m1\u001b[0m\u001b[0;34m)\u001b[0m\u001b[0;34m,\u001b[0m \u001b[0mtile_spacing\u001b[0m\u001b[0;34m=\u001b[0m\u001b[0;34m(\u001b[0m\u001b[0;36m1\u001b[0m\u001b[0;34m,\u001b[0m \u001b[0;36m1\u001b[0m\u001b[0;34m)\u001b[0m\u001b[0;34m)\u001b[0m\u001b[0;34m)\u001b[0m\u001b[0;34m\u001b[0m\u001b[0;34m\u001b[0m\u001b[0m\n\u001b[0m\u001b[1;32m      3\u001b[0m \u001b[0;31m### Plot image\u001b[0m\u001b[0;34m\u001b[0m\u001b[0;34m\u001b[0m\u001b[0;34m\u001b[0m\u001b[0m\n\u001b[1;32m      4\u001b[0m \u001b[0mplt\u001b[0m\u001b[0;34m.\u001b[0m\u001b[0mrcParams\u001b[0m\u001b[0;34m[\u001b[0m\u001b[0;34m'figure.figsize'\u001b[0m\u001b[0;34m]\u001b[0m \u001b[0;34m=\u001b[0m \u001b[0;34m(\u001b[0m\u001b[0;36m4.0\u001b[0m\u001b[0;34m,\u001b[0m \u001b[0;36m4.0\u001b[0m\u001b[0;34m)\u001b[0m\u001b[0;34m\u001b[0m\u001b[0;34m\u001b[0m\u001b[0m\n\u001b[1;32m      5\u001b[0m \u001b[0mimgplot\u001b[0m \u001b[0;34m=\u001b[0m \u001b[0mplt\u001b[0m\u001b[0;34m.\u001b[0m\u001b[0mimshow\u001b[0m\u001b[0;34m(\u001b[0m\u001b[0mimage\u001b[0m\u001b[0;34m)\u001b[0m\u001b[0;34m\u001b[0m\u001b[0;34m\u001b[0m\u001b[0m\n",
      "\u001b[0;31mNameError\u001b[0m: name 'tile_raster_images' is not defined"
     ]
    }
   ],
   "source": [
    "from PIL import Image\n",
    "image = Image.fromarray(tile_raster_images(X =W.numpy().T[10:11], img_shape=(28, 28),tile_shape=(1, 1), tile_spacing=(1, 1)))\n",
    "### Plot image\n",
    "plt.rcParams['figure.figsize'] = (4.0, 4.0)\n",
    "imgplot = plt.imshow(image)\n",
    "imgplot.set_cmap('gray')  "
   ]
  },
  {
   "cell_type": "markdown",
   "metadata": {},
   "source": [
    "Let's look at the reconstruction of an image now. Imagine that we have a destructed image of figure 3. Lets see if our trained network can fix it:\n",
    "\n",
    "First we plot the image:\n"
   ]
  },
  {
   "cell_type": "code",
   "execution_count": 30,
   "metadata": {
    "tags": []
   },
   "outputs": [
    {
     "name": "stdout",
     "output_type": "stream",
     "text": [
      "--2023-08-25 04:21:27--  https://ibm.box.com/shared/static/vvm1b63uvuxq88vbw9znpwu5ol380mco.jpg\n",
      "Resolving ibm.box.com (ibm.box.com)... 74.112.186.144\n",
      "Connecting to ibm.box.com (ibm.box.com)|74.112.186.144|:443... connected.\n",
      "HTTP request sent, awaiting response... 301 Moved Permanently\n",
      "Location: /public/static/vvm1b63uvuxq88vbw9znpwu5ol380mco.jpg [following]\n",
      "--2023-08-25 04:21:27--  https://ibm.box.com/public/static/vvm1b63uvuxq88vbw9znpwu5ol380mco.jpg\n",
      "Reusing existing connection to ibm.box.com:443.\n",
      "HTTP request sent, awaiting response... 301 Moved Permanently\n",
      "Location: https://ibm.ent.box.com/public/static/vvm1b63uvuxq88vbw9znpwu5ol380mco.jpg [following]\n",
      "--2023-08-25 04:21:27--  https://ibm.ent.box.com/public/static/vvm1b63uvuxq88vbw9znpwu5ol380mco.jpg\n",
      "Resolving ibm.ent.box.com (ibm.ent.box.com)... 74.112.186.144\n",
      "Connecting to ibm.ent.box.com (ibm.ent.box.com)|74.112.186.144|:443... connected.\n",
      "HTTP request sent, awaiting response... 302 Found\n",
      "Location: https://public.boxcloud.com/d/1/b1!GnqJXB-c2BIIopKDeWgNwa5qyRQ13rM2Nurhb83QOu1Z3x3EiKduOAq3MYS72Bf-5unWCmyheFSfBVOoN-9bTQBeu8cYpDcMJHeEOzNBZb9LGQfZvz24ePGrR1BGSP7ds5AsTGV2m4bcCN-pPZAa293xEqnj-39bYku0N1Z_DGTM9qvXTBlYDcG6OKrwlnwGiIUDlcbg6BxPwTn_5mB4NF39IqGkBn37ar5RZ6ThroYDNovoUD3tHewfCog_IxdHRQOL3bhC-5mNDQpSogWGEla1gUnDKqfJpjAPDygg6blfK-ZC2gWaOcDCJrFLk5PyHxqbbVLL7vhP4ydHUpcPqMNOCE5xiPPtHk5-v3srf_WxtQjWorC1057i-1UuGL8p23cuzT85JeeZg_wE6Cmft_vy7XR0aCKl8Gp03G8-kzDD1MhZYElAeyBOVbh2idiQIsqhdyOfynNo0-K-mRAWTlyDgJIk2zD7yGooCY6C73o0_lu1qi6eEn6tlx3kaoVdiK_dOgYzGYNTP4o-5B5Nxn3g5GsooG97o5M61W02N4afOf-HKNVjAPHFcicWrm8i_ZCNSszj-6_7FTd0JSISras0k7IlHzvaX971DKHzX1ieSZ2lQ_K2C63Jo3VDVM1EQ0fg_teEQ09zC3ElDLTf1DWTuq07-RupZ6uGWwNYQcycbHsnPfy2DeCGZtkmvtI6Ja2ruBEinHmMVrBIIEXhUk2Q-SS9o09ftbLZwhcqO94zxsHhyZ-k0b16zabz4AoJYewnbA619QUV3IY7NwbjfW13KIxZevZ_Qw9nZygfft29Wits-x80f5ayyqG-MQY8mD3yx9_XZeeLR4nKpw1zEfsLdjNOBrmQaXiJj1mowIlzWf0hkOGiuLfRFV1x4Hh71HwlAJczTYbQMAo9TmbjGctJ6Q9Cl1ABoby4N9G6zlkEW2XPVE3xgLAvfXbpKsXiQmb1pcvM0aGRIOZsl3peRiJYNgjYKj1FYV_q41I1-TyCcjxGt1tb8L0sgb0S8AkM0BjrNFzxcFyEfGvTNXHibTZx5KezVEymsCRR5J9B5f2mNofeFKUAIuvZeD3PpYpa1yhrJLp6NclUJIPJdIQuR6y_BiagKQwQcWqdVDwg-V8tOKql9uq4OU_-8LzdOVCdnVtTf9we5UeV8cVihaKkfuf6QG48BhqNaLa_DpdCrUin0Dbz2WjSspgLI2iXAXvmBLLAwo5Nw-J_kpmz4hYIKZjATfZvRL1VgpveqzWZ3XBCyoJ70L8243rokHA9O1gHPydCd6rhAp5c48FetltV84P53s1PxdIi-zxJGnduN0hoFia8veANcSLiI6w-Ua69Dk5MuRjnWAiI1x2UnwRLlCnVjdCHtEbvLTCSyAVCRw9z1cdhIvmtUpIrWLAH1h9F3n8GsZ3y_zTPnfcs2MBRQ-lI/download [following]\n",
      "--2023-08-25 04:21:29--  https://public.boxcloud.com/d/1/b1!GnqJXB-c2BIIopKDeWgNwa5qyRQ13rM2Nurhb83QOu1Z3x3EiKduOAq3MYS72Bf-5unWCmyheFSfBVOoN-9bTQBeu8cYpDcMJHeEOzNBZb9LGQfZvz24ePGrR1BGSP7ds5AsTGV2m4bcCN-pPZAa293xEqnj-39bYku0N1Z_DGTM9qvXTBlYDcG6OKrwlnwGiIUDlcbg6BxPwTn_5mB4NF39IqGkBn37ar5RZ6ThroYDNovoUD3tHewfCog_IxdHRQOL3bhC-5mNDQpSogWGEla1gUnDKqfJpjAPDygg6blfK-ZC2gWaOcDCJrFLk5PyHxqbbVLL7vhP4ydHUpcPqMNOCE5xiPPtHk5-v3srf_WxtQjWorC1057i-1UuGL8p23cuzT85JeeZg_wE6Cmft_vy7XR0aCKl8Gp03G8-kzDD1MhZYElAeyBOVbh2idiQIsqhdyOfynNo0-K-mRAWTlyDgJIk2zD7yGooCY6C73o0_lu1qi6eEn6tlx3kaoVdiK_dOgYzGYNTP4o-5B5Nxn3g5GsooG97o5M61W02N4afOf-HKNVjAPHFcicWrm8i_ZCNSszj-6_7FTd0JSISras0k7IlHzvaX971DKHzX1ieSZ2lQ_K2C63Jo3VDVM1EQ0fg_teEQ09zC3ElDLTf1DWTuq07-RupZ6uGWwNYQcycbHsnPfy2DeCGZtkmvtI6Ja2ruBEinHmMVrBIIEXhUk2Q-SS9o09ftbLZwhcqO94zxsHhyZ-k0b16zabz4AoJYewnbA619QUV3IY7NwbjfW13KIxZevZ_Qw9nZygfft29Wits-x80f5ayyqG-MQY8mD3yx9_XZeeLR4nKpw1zEfsLdjNOBrmQaXiJj1mowIlzWf0hkOGiuLfRFV1x4Hh71HwlAJczTYbQMAo9TmbjGctJ6Q9Cl1ABoby4N9G6zlkEW2XPVE3xgLAvfXbpKsXiQmb1pcvM0aGRIOZsl3peRiJYNgjYKj1FYV_q41I1-TyCcjxGt1tb8L0sgb0S8AkM0BjrNFzxcFyEfGvTNXHibTZx5KezVEymsCRR5J9B5f2mNofeFKUAIuvZeD3PpYpa1yhrJLp6NclUJIPJdIQuR6y_BiagKQwQcWqdVDwg-V8tOKql9uq4OU_-8LzdOVCdnVtTf9we5UeV8cVihaKkfuf6QG48BhqNaLa_DpdCrUin0Dbz2WjSspgLI2iXAXvmBLLAwo5Nw-J_kpmz4hYIKZjATfZvRL1VgpveqzWZ3XBCyoJ70L8243rokHA9O1gHPydCd6rhAp5c48FetltV84P53s1PxdIi-zxJGnduN0hoFia8veANcSLiI6w-Ua69Dk5MuRjnWAiI1x2UnwRLlCnVjdCHtEbvLTCSyAVCRw9z1cdhIvmtUpIrWLAH1h9F3n8GsZ3y_zTPnfcs2MBRQ-lI/download\n",
      "Resolving public.boxcloud.com (public.boxcloud.com)... 74.112.186.128\n",
      "Connecting to public.boxcloud.com (public.boxcloud.com)|74.112.186.128|:443... connected.\n",
      "HTTP request sent, awaiting response... 200 OK\n",
      "Length: 24383 (24K) [image/jpeg]\n",
      "Saving to: ‘destructed3.jpg’\n",
      "\n",
      "destructed3.jpg     100%[===================>]  23.81K  --.-KB/s    in 0.01s   \n",
      "\n",
      "2023-08-25 04:21:29 (2.06 MB/s) - ‘destructed3.jpg’ saved [24383/24383]\n",
      "\n"
     ]
    },
    {
     "data": {
      "image/png": "[encoded data removed]",
      "text/plain": [
       "<PIL.JpegImagePlugin.JpegImageFile image mode=RGB size=181x181 at 0x7F452AC9B390>"
      ]
     },
     "execution_count": 30,
     "metadata": {},
     "output_type": "execute_result"
    }
   ],
   "source": [
    "!wget -O destructed3.jpg  https://ibm.box.com/shared/static/vvm1b63uvuxq88vbw9znpwu5ol380mco.jpg\n",
    "img = Image.open('destructed3.jpg')\n",
    "img"
   ]
  },
  {
   "cell_type": "markdown",
   "metadata": {},
   "source": [
    "Now let's pass this image through the neural net:\n"
   ]
  },
  {
   "cell_type": "code",
   "execution_count": 31,
   "metadata": {
    "tags": []
   },
   "outputs": [],
   "source": [
    "# convert the image to a 1d numpy array\n",
    "sample_case = np.array(img.convert('I').resize((28,28))).ravel().reshape((1, -1))/255.0\n",
    "\n",
    "sample_case = tf.cast(sample_case, dtype=tf.float32)"
   ]
  },
  {
   "cell_type": "markdown",
   "metadata": {},
   "source": [
    "Feed the sample case into the network and reconstruct the output:\n"
   ]
  },
  {
   "cell_type": "code",
   "execution_count": 32,
   "metadata": {
    "tags": []
   },
   "outputs": [
    {
     "name": "stdout",
     "output_type": "stream",
     "text": [
      "Probability nodes in hidden layer: tf.Tensor(\n",
      "[[4.9203145e-11 1.7141044e-01 1.5648394e-10 5.4677534e-05 1.0000000e+00\n",
      "  1.4405494e-15 4.3319005e-13 1.4356990e-16 6.1125443e-03 9.9999988e-01\n",
      "  8.9916465e-09 9.9998945e-01 9.9977380e-01 4.2246087e-05 9.9999982e-01\n",
      "  9.2151392e-01 6.8972810e-08 5.4190278e-01 5.9494271e-04 2.5319266e-10\n",
      "  1.0000000e+00 1.5699607e-05 4.2105799e-05 1.3466635e-08 2.3916172e-10\n",
      "  5.7245915e-09 9.8060232e-01 2.0574939e-08 2.2948047e-04 3.7254665e-06\n",
      "  4.7280075e-17 9.9996752e-01 9.9999845e-01 5.7537914e-03 9.9148440e-01\n",
      "  3.2557599e-11 1.2192396e-14 3.0206799e-08 8.3571511e-11 1.2474955e-03\n",
      "  4.1823068e-01 2.0063211e-05 1.0000000e+00 7.5984538e-11 1.8160987e-04\n",
      "  7.2081057e-05 9.9999684e-01 1.3604074e-05 9.9999946e-01 9.9997532e-01]], shape=(1, 50), dtype=float32)\n",
      "activated nodes in hidden layer: tf.Tensor(\n",
      "[[0. 0. 0. 0. 1. 0. 0. 0. 0. 1. 0. 1. 1. 0. 1. 1. 0. 1. 0. 0. 1. 0. 0. 0.\n",
      "  0. 0. 1. 0. 0. 0. 0. 1. 1. 0. 1. 0. 0. 0. 0. 0. 0. 0. 1. 0. 0. 0. 1. 0.\n",
      "  1. 1.]], shape=(1, 50), dtype=float32)\n",
      "tf.Tensor(\n",
      "[[5.05380624e-04 2.27145341e-04 3.85842868e-04 3.49138398e-04\n",
      "  2.97531515e-04 2.74662510e-04 4.57309186e-04 3.38823389e-04\n",
      "  4.52761276e-04 2.91641336e-04 3.49138398e-04 4.43799770e-04\n",
      "  2.92030862e-04 4.29660402e-04 3.55394062e-04 3.43194639e-04\n",
      "  3.42227198e-04 3.06589558e-04 2.69225187e-04 2.94571830e-04\n",
      "  3.42227198e-04 3.06589849e-04 3.42227198e-04 3.63381841e-04\n",
      "  4.61903168e-04 4.80744755e-04 2.97531515e-04 4.39385738e-04\n",
      "  2.85868475e-04 3.93634517e-04 5.05380624e-04 3.32116324e-04\n",
      "  4.54467954e-04 3.71578441e-04 4.65283374e-04 2.92959448e-04\n",
      "  3.97387164e-04 4.31433000e-04 6.31667150e-04 4.83239040e-04\n",
      "  5.89750707e-04 4.23142308e-04 2.69902113e-04 4.67605685e-04\n",
      "  6.43007515e-04 7.62875716e-04 5.71836543e-04 5.39398694e-04\n",
      "  5.05301694e-04 5.49211109e-04 5.52818179e-04 5.16697415e-04\n",
      "  2.97531515e-04 3.93634895e-04 5.31277910e-04 2.97531515e-04\n",
      "  5.05380624e-04 3.56188772e-04 3.62499850e-04 3.67781468e-04\n",
      "  3.47173191e-04 4.73693101e-04 3.77628923e-04 4.93170461e-04\n",
      "  4.55075322e-04 3.59359750e-04 1.57087023e-04 9.86099985e-05\n",
      "  1.11600726e-04 6.47050256e-05 1.06961081e-04 3.18576407e-04\n",
      "  3.99907120e-04 2.26055796e-04 2.87275267e-04 2.46331212e-04\n",
      "  1.78380447e-04 3.62345076e-04 6.84859231e-04 4.61541436e-04\n",
      "  4.52902867e-04 4.53240151e-04 3.22304026e-04 4.13808681e-04\n",
      "  2.85868475e-04 4.26405604e-04 3.12487420e-04 3.78918456e-04\n",
      "  5.19683119e-04 4.10851702e-04 3.66889522e-04 4.52479115e-04\n",
      "  2.48619966e-04 2.10213737e-04 1.47183149e-04 1.44252306e-04\n",
      "  1.24591694e-04 2.63766415e-04 1.40307751e-03 1.78789580e-03\n",
      "  2.23910226e-03 4.45006927e-03 2.42107618e-03 9.32000054e-04\n",
      "  6.40596903e-04 5.76409569e-04 6.13999495e-04 4.85956582e-04\n",
      "  3.84183513e-04 4.93595551e-04 3.15775396e-04 6.68574939e-04\n",
      "  3.78206081e-04 2.98993138e-04 5.65174385e-04 5.00629714e-04\n",
      "  7.27858976e-04 8.64856236e-04 1.37742423e-03 1.11944077e-03\n",
      "  6.96775911e-04 7.72997038e-04 6.59529411e-04 1.15833781e-03\n",
      "  1.43303338e-03 7.33157760e-03 1.37485787e-02 4.21407148e-02\n",
      "  4.08200882e-02 7.39271715e-02 1.73292868e-02 9.19487514e-03\n",
      "  4.22187755e-03 1.73841161e-03 3.04880762e-03 2.10821070e-03\n",
      "  1.17852155e-03 6.80178578e-04 4.28231288e-04 3.24179855e-04\n",
      "  2.97531515e-04 3.45665554e-04 3.56230914e-04 7.28117069e-04\n",
      "  1.30199315e-03 1.74656324e-03 1.84661825e-03 3.62728885e-03\n",
      "  3.88201233e-03 3.64406826e-03 3.68226110e-03 1.63674355e-02\n",
      "  8.31237137e-02 3.42916965e-01 6.49401426e-01 8.39712977e-01\n",
      "  8.84697795e-01 8.71605873e-01 5.98271906e-01 2.45983496e-01\n",
      "  7.44676664e-02 1.68796480e-02 1.04414402e-02 6.02849480e-03\n",
      "  4.14943043e-03 1.84127153e-03 1.32255128e-03 3.60642996e-04\n",
      "  7.68967147e-04 3.17500933e-04 5.56252140e-04 1.03119412e-03\n",
      "  3.38521437e-03 3.19771818e-03 9.39531066e-03 4.76538390e-03\n",
      "  6.00555958e-03 6.08593877e-03 3.60117182e-02 3.09677511e-01\n",
      "  7.63674259e-01 9.60529029e-01 9.86566365e-01 9.71173406e-01\n",
      "  9.66178358e-01 9.23106015e-01 8.64820957e-01 7.35075891e-01\n",
      "  3.04108709e-01 6.91255257e-02 4.13521007e-02 1.18158879e-02\n",
      "  5.09859947e-03 1.82441936e-03 7.02252437e-04 4.31331020e-04\n",
      "  3.96235700e-04 3.92079557e-04 8.73982906e-04 2.25594779e-03\n",
      "  3.67043703e-03 8.24083854e-03 3.61230620e-03 3.60581093e-03\n",
      "  5.18368930e-03 5.07791191e-02 2.13420644e-01 7.85652697e-01\n",
      "  9.70686555e-01 9.91652012e-01 9.76921916e-01 9.75683033e-01\n",
      "  9.34928358e-01 7.89096236e-01 7.40423977e-01 7.17616022e-01\n",
      "  6.12775981e-01 2.13068545e-01 4.21012156e-02 6.02492969e-03\n",
      "  3.36797768e-03 9.11375100e-04 8.89252697e-04 3.63481609e-04\n",
      "  2.88706622e-04 5.67972835e-04 1.39446545e-03 2.98590329e-03\n",
      "  3.08163068e-03 5.06729912e-03 6.14654832e-03 5.35602821e-03\n",
      "  1.45464502e-02 6.86857328e-02 4.58878011e-01 8.90388012e-01\n",
      "  9.74881411e-01 9.42467511e-01 8.68505895e-01 5.19504249e-01\n",
      "  2.85658777e-01 2.62486488e-01 4.21631545e-01 7.19531715e-01\n",
      "  4.64084566e-01 3.95519495e-01 7.72248507e-02 4.79388610e-03\n",
      "  1.39040221e-03 4.89784230e-04 4.90741804e-04 3.09986324e-04\n",
      "  3.31050367e-04 4.13630449e-04 1.02792785e-03 1.45244086e-03\n",
      "  3.90267093e-03 5.10492083e-03 5.23356907e-03 4.03517904e-03\n",
      "  2.47868616e-02 9.74647626e-02 4.89589542e-01 7.98639417e-01\n",
      "  8.63252878e-01 5.83807886e-01 1.85559094e-01 1.05798133e-01\n",
      "  6.40878081e-02 9.95532423e-02 3.50676000e-01 6.85523450e-01\n",
      "  6.63292825e-01 5.09701371e-01 1.17478967e-01 7.13971257e-03\n",
      "  1.66270568e-03 4.53883520e-04 6.19071769e-04 4.86889447e-04\n",
      "  3.78517405e-04 5.62456262e-04 1.14979176e-03 2.22553313e-03\n",
      "  4.38893307e-03 6.40385458e-03 2.39747181e-03 5.01982076e-03\n",
      "  9.17066634e-03 2.56136395e-02 2.41713002e-01 5.13783395e-01\n",
      "  4.61047679e-01 2.50225216e-01 6.10072054e-02 9.55669805e-02\n",
      "  1.14288621e-01 3.23393494e-01 5.70336461e-01 7.50919163e-01\n",
      "  8.65086377e-01 6.17567062e-01 8.94558355e-02 6.87710103e-03\n",
      "  1.73254136e-03 6.82503858e-04 3.94083589e-04 3.03350040e-04\n",
      "  5.97356178e-04 6.58279750e-04 1.57419103e-03 9.78230732e-04\n",
      "  3.66115081e-03 4.37133666e-03 5.13554644e-03 3.36852157e-03\n",
      "  4.64913063e-03 7.01054046e-03 4.75093648e-02 1.71900198e-01\n",
      "  3.64273041e-01 2.38600895e-01 3.24396729e-01 3.45284939e-01\n",
      "  4.61639345e-01 5.72902024e-01 6.14309072e-01 8.11366320e-01\n",
      "  7.91649818e-01 4.52036947e-01 4.23933528e-02 4.08789329e-03\n",
      "  1.16987352e-03 9.48157802e-04 6.41169783e-04 3.96888528e-04\n",
      "  5.11238410e-04 4.16984141e-04 1.92943786e-03 1.34649256e-03\n",
      "  1.25067029e-03 4.22698492e-03 8.14728811e-03 6.44957507e-03\n",
      "  2.37629423e-03 3.24107963e-03 1.78360138e-02 1.90575197e-01\n",
      "  6.94876671e-01 8.20016444e-01 8.65073442e-01 8.66578937e-01\n",
      "  7.27345049e-01 5.44887066e-01 6.55936241e-01 6.57714307e-01\n",
      "  5.30994952e-01 1.77570462e-01 1.17641753e-02 2.00915732e-03\n",
      "  6.05942565e-04 7.05978600e-04 6.54883217e-04 3.57027835e-04\n",
      "  2.72624136e-04 4.38577234e-04 7.09332293e-04 1.10039127e-03\n",
      "  2.02872581e-03 6.06054580e-03 8.88346322e-03 3.69659206e-03\n",
      "  2.80151842e-03 1.91896909e-03 2.31643543e-02 3.78590047e-01\n",
      "  9.28018451e-01 9.73095357e-01 9.63745475e-01 8.95377219e-01\n",
      "  6.88778877e-01 4.95469749e-01 6.54276907e-01 5.30890167e-01\n",
      "  2.99582809e-01 4.18268032e-02 8.59852042e-03 2.00716755e-03\n",
      "  7.76389905e-04 5.22708637e-04 5.14797342e-04 4.03619517e-04\n",
      "  3.01476830e-04 2.78806896e-04 5.37772779e-04 1.84653897e-03\n",
      "  2.06963089e-03 4.87694284e-03 3.86329764e-03 6.24518795e-03\n",
      "  3.26549774e-03 4.54659062e-03 5.74230403e-02 4.83427048e-01\n",
      "  9.27871823e-01 9.47548568e-01 9.16242063e-01 8.13687384e-01\n",
      "  5.35873652e-01 3.58607233e-01 5.59589386e-01 4.44836974e-01\n",
      "  1.38227299e-01 3.06087155e-02 4.92029637e-03 2.21839733e-03\n",
      "  6.10523333e-04 4.01632104e-04 6.55961980e-04 4.21817298e-04\n",
      "  4.85250639e-04 3.39221879e-04 6.34669384e-04 2.48103752e-03\n",
      "  4.80119418e-03 1.06504364e-02 1.35290995e-02 9.43405274e-03\n",
      "  3.23020085e-03 4.45553567e-03 4.09251936e-02 1.79099411e-01\n",
      "  4.22906220e-01 4.59684163e-01 4.13119614e-01 3.45737278e-01\n",
      "  2.98922896e-01 4.40663487e-01 7.21475542e-01 5.77408910e-01\n",
      "  4.75851148e-02 1.02993101e-02 6.85507618e-03 3.67762824e-03\n",
      "  9.20385064e-04 5.67550713e-04 4.35340829e-04 4.84054093e-04\n",
      "  5.05875680e-04 2.79539876e-04 1.31408358e-03 4.32644598e-03\n",
      "  1.03585711e-02 1.52837187e-02 4.68429476e-02 3.20007578e-02\n",
      "  9.15041100e-03 3.36893485e-03 2.12950762e-02 4.75986898e-02\n",
      "  6.14036247e-02 8.60485286e-02 4.20388170e-02 1.15265183e-01\n",
      "  3.76253009e-01 5.04749894e-01 5.91991365e-01 2.45347008e-01\n",
      "  6.91844150e-02 1.02272257e-02 8.79795849e-03 5.80521207e-03\n",
      "  2.06292910e-03 4.62159514e-04 1.06003019e-03 5.92274882e-04\n",
      "  5.81281667e-04 5.35501749e-04 1.12846110e-03 8.85662530e-03\n",
      "  3.60696688e-02 3.67491730e-02 8.65310356e-02 5.11487685e-02\n",
      "  1.49350995e-02 5.39118843e-03 8.45097192e-03 1.72948278e-02\n",
      "  2.71096695e-02 1.16524771e-02 2.27220505e-02 6.94844946e-02\n",
      "  2.84377396e-01 5.50091982e-01 5.89445949e-01 4.37706113e-01\n",
      "  9.29349735e-02 3.68813127e-02 3.46675329e-02 7.11275544e-03\n",
      "  3.63465864e-03 8.37545493e-04 8.72752047e-04 3.58570280e-04\n",
      "  3.50660819e-04 3.67493019e-04 1.80092419e-03 2.48081665e-02\n",
      "  8.16839710e-02 2.09637672e-01 1.19666450e-01 5.58045208e-02\n",
      "  1.63171217e-02 1.14634084e-02 1.20794112e-02 3.48703787e-02\n",
      "  2.42004767e-02 3.28160413e-02 4.43281718e-02 8.00906420e-02\n",
      "  2.77365983e-01 6.79100335e-01 7.17600763e-01 4.33885902e-01\n",
      "  7.65148997e-02 3.15815806e-02 4.34899405e-02 1.75646693e-02\n",
      "  4.35396750e-03 1.40367763e-03 1.01238058e-03 4.89280384e-04\n",
      "  3.58289719e-04 4.40144067e-04 5.40850032e-03 5.09226583e-02\n",
      "  1.68178692e-01 2.89390504e-01 2.87883550e-01 1.20170943e-01\n",
      "  5.32132685e-02 2.58540194e-02 4.09275368e-02 6.20862693e-02\n",
      "  2.70949323e-02 2.89316252e-02 4.50308174e-02 5.86008355e-02\n",
      "  2.33802646e-01 7.50111639e-01 5.89336097e-01 3.51160288e-01\n",
      "  4.25205119e-02 5.67802601e-02 2.02523917e-02 1.55479666e-02\n",
      "  7.36745121e-03 2.29494902e-03 6.52859162e-04 4.70251834e-04\n",
      "  4.30689310e-04 5.18035784e-04 5.04646963e-03 8.63883719e-02\n",
      "  3.17412525e-01 4.08527583e-01 3.66554290e-01 2.86664277e-01\n",
      "  1.32928625e-01 1.01607211e-01 1.09827384e-01 4.98160832e-02\n",
      "  2.71711610e-02 3.23970281e-02 4.20689099e-02 2.13837385e-01\n",
      "  7.42742121e-01 7.24817097e-01 7.36928165e-01 1.16977558e-01\n",
      "  2.43556388e-02 2.31602434e-02 1.44276209e-02 4.92436532e-03\n",
      "  6.23907708e-03 1.95981143e-03 9.41342907e-04 4.36553411e-04\n",
      "  4.77177702e-04 4.46399412e-04 2.35672155e-03 9.08695087e-02\n",
      "  2.52526373e-01 3.56120318e-01 3.32837105e-01 3.53751063e-01\n",
      "  2.04981804e-01 1.55328393e-01 1.25768855e-01 5.63574582e-02\n",
      "  1.13026515e-01 1.36226892e-01 3.29193383e-01 5.89735627e-01\n",
      "  7.44880915e-01 7.74504423e-01 2.77890503e-01 6.12238720e-02\n",
      "  1.02906171e-02 9.89285950e-03 8.28703493e-03 6.10795710e-03\n",
      "  2.89236056e-03 1.16913940e-03 5.30341989e-04 3.17600527e-04\n",
      "  4.72246815e-04 3.54156189e-04 2.86667328e-03 3.33456844e-02\n",
      "  1.14397585e-01 2.65203565e-01 2.96356171e-01 3.95734340e-01\n",
      "  3.91631216e-01 4.12376493e-01 4.65926677e-01 5.00455916e-01\n",
      "  5.21039128e-01 6.86876833e-01 7.59000182e-01 8.65596950e-01\n",
      "  6.93752110e-01 5.00694215e-01 2.00156733e-01 2.52994541e-02\n",
      "  1.30032338e-02 4.30144649e-03 5.90573670e-03 4.59907390e-03\n",
      "  1.71546370e-03 8.30549398e-04 3.23583023e-04 3.59133352e-04\n",
      "  4.09692846e-04 3.32116324e-04 5.26325835e-04 5.49270352e-03\n",
      "  4.53479029e-02 2.03343213e-01 3.22169304e-01 5.07433236e-01\n",
      "  5.17971396e-01 7.77960837e-01 8.84397924e-01 8.66935074e-01\n",
      "  7.91522563e-01 8.22442293e-01 7.21224129e-01 5.71574330e-01\n",
      "  3.19924384e-01 1.38124183e-01 9.31324661e-02 1.18407896e-02\n",
      "  4.70939372e-03 2.99973320e-03 1.94598932e-03 2.40169326e-03\n",
      "  1.48410897e-03 6.93445851e-04 5.61707304e-04 2.77421961e-04\n",
      "  4.17965493e-04 3.03540088e-04 5.09198697e-04 1.70241052e-03\n",
      "  9.01536271e-03 4.93466407e-02 1.39067769e-01 2.41308153e-01\n",
      "  5.21858335e-01 8.32569361e-01 7.79848218e-01 6.67678535e-01\n",
      "  5.18707156e-01 3.90206099e-01 2.25408792e-01 1.22954018e-01\n",
      "  1.24181747e-01 7.00753480e-02 1.19262999e-02 2.78637302e-03\n",
      "  3.50081432e-03 1.78359309e-03 1.29314943e-03 1.22046971e-03\n",
      "  5.98740124e-04 6.79191435e-04 3.93049180e-04 3.42227519e-04\n",
      "  3.74444207e-04 3.00520944e-04 2.68814008e-04 3.43800784e-04\n",
      "  8.45952134e-04 2.13452126e-03 9.27403197e-03 2.46512443e-02\n",
      "  3.02009247e-02 5.99342175e-02 4.39630821e-02 4.84927334e-02\n",
      "  2.17699669e-02 1.57715436e-02 6.33759378e-03 7.95136578e-03\n",
      "  1.38928965e-02 5.66213625e-03 2.87476741e-03 9.99377342e-04\n",
      "  1.10661879e-03 7.51981104e-04 1.25449046e-03 6.29863061e-04\n",
      "  4.04110382e-04 4.08506108e-04 4.40541189e-04 2.27145560e-04\n",
      "  3.67032626e-04 4.85574099e-04 5.36614622e-04 4.41543845e-04\n",
      "  2.99708918e-04 1.31960202e-03 1.53343973e-03 1.21961453e-03\n",
      "  8.23007606e-04 2.02892278e-03 1.40567613e-03 4.75227193e-04\n",
      "  5.74342557e-04 6.11891213e-04 8.57908395e-04 1.54253701e-03\n",
      "  2.77232192e-03 1.85219187e-03 1.22814544e-03 5.92739088e-04\n",
      "  1.01492146e-03 5.94485609e-04 4.76692163e-04 3.67190805e-04\n",
      "  4.56127600e-04 5.12060185e-04 3.89719615e-04 3.22303735e-04\n",
      "  3.74443858e-04 3.19098006e-04 3.56188772e-04 5.00354508e-04\n",
      "  3.11301264e-04 5.32299804e-04 6.39914651e-04 5.15524123e-04\n",
      "  5.68909047e-04 9.90645727e-04 1.34538370e-03 1.34685927e-03\n",
      "  8.69681360e-04 6.31223025e-04 3.20905587e-04 3.93990427e-04\n",
      "  9.81836696e-04 1.54997385e-03 8.56155180e-04 3.27526534e-04\n",
      "  3.70211870e-04 3.36995203e-04 3.61917337e-04 5.37288142e-04\n",
      "  5.64112037e-04 1.89734972e-04 4.57309186e-04 4.66542930e-04]], shape=(1, 784), dtype=float32)\n"
     ]
    }
   ],
   "source": [
    "hh0_p = tf.nn.sigmoid(tf.matmul(sample_case, W) + hb)\n",
    "hh0_s = tf.round(hh0_p)\n",
    "\n",
    "print(\"Probability nodes in hidden layer:\" ,hh0_p)\n",
    "print(\"activated nodes in hidden layer:\" ,hh0_s)\n",
    "\n",
    "# reconstruct\n",
    "vv1_p = tf.nn.sigmoid(tf.matmul(hh0_s, tf.transpose(W)) + vb)\n",
    "\n",
    "print(vv1_p)\n",
    "#rec_prob = sess.run(vv1_p, feed_dict={ hh0_s: hh0_s_val, W: prv_w, vb: prv_vb})"
   ]
  },
  {
   "cell_type": "markdown",
   "metadata": {},
   "source": [
    "Here we plot the reconstructed image:\n"
   ]
  },
  {
   "cell_type": "code",
   "execution_count": 33,
   "metadata": {
    "tags": []
   },
   "outputs": [
    {
     "ename": "NameError",
     "evalue": "name 'tile_raster_images' is not defined",
     "output_type": "error",
     "traceback": [
      "\u001b[0;31m---------------------------------------------------------------------------\u001b[0m",
      "\u001b[0;31mNameError\u001b[0m                                 Traceback (most recent call last)",
      "\u001b[0;32m/tmp/ipykernel_67/3803996827.py\u001b[0m in \u001b[0;36m<module>\u001b[0;34m\u001b[0m\n\u001b[0;32m----> 1\u001b[0;31m \u001b[0mimg\u001b[0m \u001b[0;34m=\u001b[0m \u001b[0mImage\u001b[0m\u001b[0;34m.\u001b[0m\u001b[0mfromarray\u001b[0m\u001b[0;34m(\u001b[0m\u001b[0mtile_raster_images\u001b[0m\u001b[0;34m(\u001b[0m\u001b[0mX\u001b[0m\u001b[0;34m=\u001b[0m\u001b[0mvv1_p\u001b[0m\u001b[0;34m.\u001b[0m\u001b[0mnumpy\u001b[0m\u001b[0;34m(\u001b[0m\u001b[0;34m)\u001b[0m\u001b[0;34m,\u001b[0m \u001b[0mimg_shape\u001b[0m\u001b[0;34m=\u001b[0m\u001b[0;34m(\u001b[0m\u001b[0;36m28\u001b[0m\u001b[0;34m,\u001b[0m \u001b[0;36m28\u001b[0m\u001b[0;34m)\u001b[0m\u001b[0;34m,\u001b[0m\u001b[0mtile_shape\u001b[0m\u001b[0;34m=\u001b[0m\u001b[0;34m(\u001b[0m\u001b[0;36m1\u001b[0m\u001b[0;34m,\u001b[0m \u001b[0;36m1\u001b[0m\u001b[0;34m)\u001b[0m\u001b[0;34m,\u001b[0m \u001b[0mtile_spacing\u001b[0m\u001b[0;34m=\u001b[0m\u001b[0;34m(\u001b[0m\u001b[0;36m1\u001b[0m\u001b[0;34m,\u001b[0m \u001b[0;36m1\u001b[0m\u001b[0;34m)\u001b[0m\u001b[0;34m)\u001b[0m\u001b[0;34m)\u001b[0m\u001b[0;34m\u001b[0m\u001b[0;34m\u001b[0m\u001b[0m\n\u001b[0m\u001b[1;32m      2\u001b[0m \u001b[0mplt\u001b[0m\u001b[0;34m.\u001b[0m\u001b[0mrcParams\u001b[0m\u001b[0;34m[\u001b[0m\u001b[0;34m'figure.figsize'\u001b[0m\u001b[0;34m]\u001b[0m \u001b[0;34m=\u001b[0m \u001b[0;34m(\u001b[0m\u001b[0;36m4.0\u001b[0m\u001b[0;34m,\u001b[0m \u001b[0;36m4.0\u001b[0m\u001b[0;34m)\u001b[0m\u001b[0;34m\u001b[0m\u001b[0;34m\u001b[0m\u001b[0m\n\u001b[1;32m      3\u001b[0m \u001b[0mimgplot\u001b[0m \u001b[0;34m=\u001b[0m \u001b[0mplt\u001b[0m\u001b[0;34m.\u001b[0m\u001b[0mimshow\u001b[0m\u001b[0;34m(\u001b[0m\u001b[0mimg\u001b[0m\u001b[0;34m)\u001b[0m\u001b[0;34m\u001b[0m\u001b[0;34m\u001b[0m\u001b[0m\n\u001b[1;32m      4\u001b[0m \u001b[0mimgplot\u001b[0m\u001b[0;34m.\u001b[0m\u001b[0mset_cmap\u001b[0m\u001b[0;34m(\u001b[0m\u001b[0;34m'gray'\u001b[0m\u001b[0;34m)\u001b[0m\u001b[0;34m\u001b[0m\u001b[0;34m\u001b[0m\u001b[0m\n",
      "\u001b[0;31mNameError\u001b[0m: name 'tile_raster_images' is not defined"
     ]
    }
   ],
   "source": [
    "img = Image.fromarray(tile_raster_images(X=vv1_p.numpy(), img_shape=(28, 28),tile_shape=(1, 1), tile_spacing=(1, 1)))\n",
    "plt.rcParams['figure.figsize'] = (4.0, 4.0)\n",
    "imgplot = plt.imshow(img)\n",
    "imgplot.set_cmap('gray') "
   ]
  },
  {
   "cell_type": "markdown",
   "metadata": {},
   "source": [
    "<hr>\n",
    "\n",
    "## Want to learn more?\n",
    "\n",
    "Also, you can use __Watson Studio__ to run these notebooks faster with bigger datasets.__Watson Studio__ is IBM’s leading cloud solution for data scientists, built by data scientists. With Jupyter notebooks, RStudio, Apache Spark and popular libraries pre-packaged in the cloud, __Watson Studio__ enables data scientists to collaborate on their projects without having to install anything. Join the fast-growing community of __Watson Studio__ users today with a free account at [Watson Studio](https://cocl.us/ML0120EN_DSX).This is the end of this lesson. Thank you for reading this notebook, and good luck on your studies.\n"
   ]
  },
  {
   "cell_type": "markdown",
   "metadata": {},
   "source": [
    "### Thanks for completing this lesson!\n",
    "\n",
    "Notebook created by: <a href = \"https://ca.linkedin.com/in/saeedaghabozorgi\">Saeed Aghabozorgi</a>\n",
    "\n",
    "Updated to TF 2.X by  <a href=\"https://ca.linkedin.com/in/nilmeier?utm_medium=Exinfluencer&utm_source=Exinfluencer&utm_content=000026UJ&utm_term=10006555&utm_id=NA-SkillsNetwork-Channel-SkillsNetworkCoursesIBMDeveloperSkillsNetworkDL0120ENSkillsNetwork954-2023-01-01\"> Jerome Nilmeier</a><br />\n"
   ]
  },
  {
   "cell_type": "markdown",
   "metadata": {},
   "source": [
    "### References:\n",
    "https://en.wikipedia.org/wiki/Restricted_Boltzmann_machine  \n",
    "http://deeplearning.net/tutorial/rbm.html  \n",
    "http://www.cs.utoronto.ca/~hinton/absps/netflixICML.pdf<br>\n",
    "http://imonad.com/rbm/restricted-boltzmann-machine/  \n"
   ]
  },
  {
   "cell_type": "markdown",
   "metadata": {},
   "source": [
    "<hr>\n",
    "\n",
    "Copyright &copy; 2018 [Cognitive Class](https://cocl.us/DX0108EN_CC). This notebook and its source code are released under the terms of the [MIT License](https://bigdatauniversity.com/mit-license/?utm_medium=Exinfluencer&utm_source=Exinfluencer&utm_content=000026UJ&utm_term=10006555&utm_id=NA-SkillsNetwork-Channel-SkillsNetworkCoursesIBMDeveloperSkillsNetworkDL0120ENSkillsNetwork954-2023-01-01).\n"
   ]
  }
 ],
 "metadata": {
  "kernelspec": {
   "display_name": "Python",
   "language": "python",
   "name": "conda-env-python-py"
  },
  "language_info": {
   "codemirror_mode": {
    "name": "ipython",
    "version": 3
   },
   "file_extension": ".py",
   "mimetype": "text/x-python",
   "name": "python",
   "nbconvert_exporter": "python",
   "pygments_lexer": "ipython3",
   "version": "3.7.12"
  }
 },
 "nbformat": 4,
 "nbformat_minor": 4
}
